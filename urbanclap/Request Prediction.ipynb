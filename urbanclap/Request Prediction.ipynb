{
 "cells": [
  {
   "cell_type": "code",
   "execution_count": 30,
   "metadata": {},
   "outputs": [],
   "source": [
    "import pandas as pd\n",
    "import numpy as np\n",
    "from pprint import pprint\n",
    "from datetime import datetime"
   ]
  },
  {
   "cell_type": "code",
   "execution_count": 31,
   "metadata": {},
   "outputs": [],
   "source": [
    "file_name = \"uc-assignment-slots.csv\""
   ]
  },
  {
   "cell_type": "code",
   "execution_count": 32,
   "metadata": {},
   "outputs": [],
   "source": [
    "df = pd.read_csv(file_name)"
   ]
  },
  {
   "cell_type": "code",
   "execution_count": 33,
   "metadata": {},
   "outputs": [
    {
     "data": {
      "text/html": [
       "<div>\n",
       "<style scoped>\n",
       "    .dataframe tbody tr th:only-of-type {\n",
       "        vertical-align: middle;\n",
       "    }\n",
       "\n",
       "    .dataframe tbody tr th {\n",
       "        vertical-align: top;\n",
       "    }\n",
       "\n",
       "    .dataframe thead th {\n",
       "        text-align: right;\n",
       "    }\n",
       "</style>\n",
       "<table border=\"1\" class=\"dataframe\">\n",
       "  <thead>\n",
       "    <tr style=\"text-align: right;\">\n",
       "      <th></th>\n",
       "      <th>record_id</th>\n",
       "      <th>city_key</th>\n",
       "      <th>event_time</th>\n",
       "      <th>weekday</th>\n",
       "      <th>category_key</th>\n",
       "      <th>rptcatg</th>\n",
       "      <th>req_id</th>\n",
       "      <th>session_group</th>\n",
       "    </tr>\n",
       "  </thead>\n",
       "  <tbody>\n",
       "    <tr>\n",
       "      <th>0</th>\n",
       "      <td>5c1699b0c3658c25008e1192</td>\n",
       "      <td>city_chennai_v2</td>\n",
       "      <td>2018-12-17 00:00:08</td>\n",
       "      <td>weekday</td>\n",
       "      <td>professional_bathroom_cleaning</td>\n",
       "      <td>Cleaning - Other</td>\n",
       "      <td>5c1699d714bd522300fae954</td>\n",
       "      <td>3022</td>\n",
       "    </tr>\n",
       "    <tr>\n",
       "      <th>1</th>\n",
       "      <td>5c1699b72dd2b92500f5f400</td>\n",
       "      <td>city_mumbai_v2</td>\n",
       "      <td>2018-12-17 00:00:15</td>\n",
       "      <td>weekday</td>\n",
       "      <td>electricians</td>\n",
       "      <td>EPC</td>\n",
       "      <td>5c1699ed70fa4f2500d66e7c</td>\n",
       "      <td>3303</td>\n",
       "    </tr>\n",
       "    <tr>\n",
       "      <th>2</th>\n",
       "      <td>5c1699df4fb96a2400166132</td>\n",
       "      <td>city_mumbai_v2</td>\n",
       "      <td>2018-12-17 00:00:55</td>\n",
       "      <td>weekday</td>\n",
       "      <td>salon_at_home</td>\n",
       "      <td>Salon at Home</td>\n",
       "      <td>NaN</td>\n",
       "      <td>3330</td>\n",
       "    </tr>\n",
       "    <tr>\n",
       "      <th>3</th>\n",
       "      <td>5c1699f405cbce26002ff832</td>\n",
       "      <td>city_kolkata_v2</td>\n",
       "      <td>2018-12-17 00:01:16</td>\n",
       "      <td>weekday</td>\n",
       "      <td>salon_at_home</td>\n",
       "      <td>Salon at Home</td>\n",
       "      <td>NaN</td>\n",
       "      <td>3330</td>\n",
       "    </tr>\n",
       "    <tr>\n",
       "      <th>4</th>\n",
       "      <td>5c1699fb02f88224006901f5</td>\n",
       "      <td>city_chennai_v2</td>\n",
       "      <td>2018-12-17 00:01:23</td>\n",
       "      <td>weekday</td>\n",
       "      <td>plumbers</td>\n",
       "      <td>EPC</td>\n",
       "      <td>5c169a6c8c954c2200693538</td>\n",
       "      <td>3303</td>\n",
       "    </tr>\n",
       "  </tbody>\n",
       "</table>\n",
       "</div>"
      ],
      "text/plain": [
       "                  record_id         city_key           event_time  weekday  \\\n",
       "0  5c1699b0c3658c25008e1192  city_chennai_v2  2018-12-17 00:00:08  weekday   \n",
       "1  5c1699b72dd2b92500f5f400   city_mumbai_v2  2018-12-17 00:00:15  weekday   \n",
       "2  5c1699df4fb96a2400166132   city_mumbai_v2  2018-12-17 00:00:55  weekday   \n",
       "3  5c1699f405cbce26002ff832  city_kolkata_v2  2018-12-17 00:01:16  weekday   \n",
       "4  5c1699fb02f88224006901f5  city_chennai_v2  2018-12-17 00:01:23  weekday   \n",
       "\n",
       "                     category_key           rptcatg                    req_id  \\\n",
       "0  professional_bathroom_cleaning  Cleaning - Other  5c1699d714bd522300fae954   \n",
       "1                    electricians               EPC  5c1699ed70fa4f2500d66e7c   \n",
       "2                   salon_at_home     Salon at Home                       NaN   \n",
       "3                   salon_at_home     Salon at Home                       NaN   \n",
       "4                        plumbers               EPC  5c169a6c8c954c2200693538   \n",
       "\n",
       "   session_group  \n",
       "0           3022  \n",
       "1           3303  \n",
       "2           3330  \n",
       "3           3330  \n",
       "4           3303  "
      ]
     },
     "execution_count": 33,
     "metadata": {},
     "output_type": "execute_result"
    }
   ],
   "source": [
    "df.head()"
   ]
  },
  {
   "cell_type": "code",
   "execution_count": 34,
   "metadata": {},
   "outputs": [
    {
     "name": "stdout",
     "output_type": "stream",
     "text": [
      "<class 'pandas.core.frame.DataFrame'>\n",
      "RangeIndex: 816530 entries, 0 to 816529\n",
      "Data columns (total 8 columns):\n",
      "record_id        816530 non-null object\n",
      "city_key         816530 non-null object\n",
      "event_time       816530 non-null object\n",
      "weekday          816530 non-null object\n",
      "category_key     816530 non-null object\n",
      "rptcatg          816530 non-null object\n",
      "req_id           372418 non-null object\n",
      "session_group    816530 non-null int64\n",
      "dtypes: int64(1), object(7)\n",
      "memory usage: 49.8+ MB\n"
     ]
    }
   ],
   "source": [
    "df.info()"
   ]
  },
  {
   "cell_type": "code",
   "execution_count": 35,
   "metadata": {},
   "outputs": [
    {
     "data": {
      "text/plain": [
       "weekday     424844\n",
       "saturday    144725\n",
       "sunday      132768\n",
       "friday      114193\n",
       "Name: weekday, dtype: int64"
      ]
     },
     "execution_count": 35,
     "metadata": {},
     "output_type": "execute_result"
    }
   ],
   "source": [
    "df['weekday'].value_counts()"
   ]
  },
  {
   "cell_type": "code",
   "execution_count": 36,
   "metadata": {},
   "outputs": [
    {
     "name": "stdout",
     "output_type": "stream",
     "text": [
      "salon_at_home                     363928\n",
      "massage_for_men                    68166\n",
      "plumbers                           60058\n",
      "carpenters                         56339\n",
      "spa_at_home                        53165\n",
      "electricians                       48088\n",
      "professional_bathroom_cleaning     39269\n",
      "washing_machine_repair             21066\n",
      "professional_sofa_cleaning         20427\n",
      "professional_home_cleaning         18430\n",
      "ro_repair                          13315\n",
      "ac_service_repair                  11459\n",
      "pest_control                       11431\n",
      "refrigerator_repair                10778\n",
      "microwave_repair                    7303\n",
      "car_cleaning                        4798\n",
      "professional_kitchen_cleaning       4188\n",
      "mens_grooming                       2378\n",
      "professional_carpet_cleaning        1944\n",
      "Name: category_key, dtype: int64\n",
      "19\n"
     ]
    }
   ],
   "source": [
    "print(df['category_key'].value_counts())\n",
    "print(len(df['category_key'].unique()))"
   ]
  },
  {
   "cell_type": "code",
   "execution_count": 37,
   "metadata": {},
   "outputs": [
    {
     "name": "stdout",
     "output_type": "stream",
     "text": [
      "Salon at Home         363928\n",
      "EPC                   164485\n",
      "Cleaning - Other       70626\n",
      "Massage for Men        68166\n",
      "Appliance Repair       63921\n",
      "Spa for Women          53165\n",
      "Full Home Cleaning     18430\n",
      "Pest Control           11431\n",
      "Mens Grooming           2378\n",
      "Name: rptcatg, dtype: int64\n",
      "9\n"
     ]
    }
   ],
   "source": [
    "print(df['rptcatg'].value_counts())\n",
    "print(len(df['rptcatg'].unique()))"
   ]
  },
  {
   "cell_type": "code",
   "execution_count": 38,
   "metadata": {},
   "outputs": [
    {
     "name": "stdout",
     "output_type": "stream",
     "text": [
      "city_delhi_v2         192601\n",
      "city_mumbai_v2        157870\n",
      "city_bangalore_v2     135166\n",
      "city_hyderabad_v2     108916\n",
      "city_pune_v2           83633\n",
      "city_kolkata_v2        51411\n",
      "city_chennai_v2        47946\n",
      "city_ahmedabad_v2      31887\n",
      "city_chandigarh_v2      3659\n",
      "city_jaipur_v2          3441\n",
      "Name: city_key, dtype: int64\n",
      "10\n"
     ]
    }
   ],
   "source": [
    "print(df['city_key'].value_counts())\n",
    "print(len(df['city_key'].unique()))"
   ]
  },
  {
   "cell_type": "markdown",
   "metadata": {},
   "source": [
    "# Create target labels "
   ]
  },
  {
   "cell_type": "code",
   "execution_count": 39,
   "metadata": {},
   "outputs": [],
   "source": [
    "df['target'] = df['req_id'].apply(lambda x: 1 if not pd.isnull(x) else 0)"
   ]
  },
  {
   "cell_type": "markdown",
   "metadata": {},
   "source": [
    "# Convert string in *event_time* column to datetime object"
   ]
  },
  {
   "cell_type": "code",
   "execution_count": 40,
   "metadata": {},
   "outputs": [],
   "source": [
    "df['event_time'] = pd.to_datetime(df['event_time'], format=\"%Y-%m-%d %H:%M:%S\")\n",
    "#df['event_time1'] = df['event_time'].apply(lambda x: datetime.strptime(x, \"%Y-%m-%d %H:%M:%S\"))"
   ]
  },
  {
   "cell_type": "markdown",
   "metadata": {},
   "source": [
    "# Get count of different values of session_group column"
   ]
  },
  {
   "cell_type": "code",
   "execution_count": 41,
   "metadata": {},
   "outputs": [
    {
     "name": "stdout",
     "output_type": "stream",
     "text": [
      "{0: 13,\n",
      " 1: 623,\n",
      " 2: 2175,\n",
      " 3: 3736,\n",
      " 10: 461,\n",
      " 11: 96,\n",
      " 12: 619,\n",
      " 13: 2009,\n",
      " 20: 3576,\n",
      " 21: 84,\n",
      " 22: 4392,\n",
      " 23: 17758,\n",
      " 30: 8605,\n",
      " 31: 17,\n",
      " 32: 313,\n",
      " 33: 142513,\n",
      " 1000: 9,\n",
      " 1001: 380,\n",
      " 1002: 1350,\n",
      " 1003: 2140,\n",
      " 1010: 152,\n",
      " 1011: 40,\n",
      " 1012: 245,\n",
      " 1013: 933,\n",
      " 1020: 1006,\n",
      " 1021: 62,\n",
      " 1022: 3714,\n",
      " 1023: 3398,\n",
      " 1030: 2825,\n",
      " 1031: 8,\n",
      " 1032: 163,\n",
      " 1033: 41041,\n",
      " 1100: 74,\n",
      " 1101: 5,\n",
      " 1102: 64,\n",
      " 1103: 170,\n",
      " 1110: 28,\n",
      " 1111: 5,\n",
      " 1112: 10,\n",
      " 1113: 104,\n",
      " 1120: 98,\n",
      " 1121: 6,\n",
      " 1122: 40,\n",
      " 1123: 731,\n",
      " 1130: 3511,\n",
      " 1131: 4,\n",
      " 1132: 64,\n",
      " 1133: 58244,\n",
      " 2000: 4,\n",
      " 2001: 443,\n",
      " 2002: 2321,\n",
      " 2003: 3633,\n",
      " 2010: 257,\n",
      " 2011: 34,\n",
      " 2012: 267,\n",
      " 2013: 1370,\n",
      " 2020: 1212,\n",
      " 2021: 27,\n",
      " 2022: 4453,\n",
      " 2023: 4803,\n",
      " 2030: 1961,\n",
      " 2031: 2,\n",
      " 2032: 143,\n",
      " 2033: 21386,\n",
      " 2100: 92,\n",
      " 2101: 12,\n",
      " 2102: 114,\n",
      " 2103: 274,\n",
      " 2110: 23,\n",
      " 2111: 2,\n",
      " 2112: 32,\n",
      " 2113: 138,\n",
      " 2120: 309,\n",
      " 2121: 15,\n",
      " 2122: 1509,\n",
      " 2123: 884,\n",
      " 2130: 1330,\n",
      " 2131: 4,\n",
      " 2132: 45,\n",
      " 2133: 16462,\n",
      " 2200: 112,\n",
      " 2201: 11,\n",
      " 2202: 124,\n",
      " 2203: 453,\n",
      " 2210: 17,\n",
      " 2211: 10,\n",
      " 2212: 39,\n",
      " 2213: 236,\n",
      " 2220: 332,\n",
      " 2221: 8,\n",
      " 2222: 1540,\n",
      " 2223: 1490,\n",
      " 2230: 13137,\n",
      " 2231: 2,\n",
      " 2232: 230,\n",
      " 2233: 256375,\n",
      " 3000: 1,\n",
      " 3001: 85,\n",
      " 3002: 701,\n",
      " 3003: 2460,\n",
      " 3010: 102,\n",
      " 3011: 9,\n",
      " 3012: 68,\n",
      " 3013: 498,\n",
      " 3020: 302,\n",
      " 3021: 9,\n",
      " 3022: 391,\n",
      " 3023: 1790,\n",
      " 3030: 775,\n",
      " 3032: 58,\n",
      " 3033: 3902,\n",
      " 3100: 25,\n",
      " 3101: 11,\n",
      " 3102: 32,\n",
      " 3103: 188,\n",
      " 3110: 7,\n",
      " 3111: 1,\n",
      " 3112: 17,\n",
      " 3113: 97,\n",
      " 3120: 35,\n",
      " 3121: 3,\n",
      " 3122: 313,\n",
      " 3123: 336,\n",
      " 3130: 273,\n",
      " 3131: 1,\n",
      " 3132: 24,\n",
      " 3133: 2620,\n",
      " 3200: 56,\n",
      " 3201: 7,\n",
      " 3202: 67,\n",
      " 3203: 215,\n",
      " 3210: 6,\n",
      " 3212: 22,\n",
      " 3213: 84,\n",
      " 3220: 531,\n",
      " 3221: 5,\n",
      " 3222: 2536,\n",
      " 3223: 584,\n",
      " 3230: 3003,\n",
      " 3231: 3,\n",
      " 3232: 71,\n",
      " 3233: 31184,\n",
      " 3300: 19,\n",
      " 3302: 4,\n",
      " 3303: 315,\n",
      " 3310: 1,\n",
      " 3313: 32,\n",
      " 3320: 5,\n",
      " 3322: 8,\n",
      " 3323: 188,\n",
      " 3330: 8171,\n",
      " 3331: 2,\n",
      " 3332: 71,\n",
      " 3333: 108915}\n",
      "154\n"
     ]
    }
   ],
   "source": [
    "pprint(df['session_group'].value_counts().to_dict())\n",
    "print(len(df['session_group'].unique()))"
   ]
  },
  {
   "cell_type": "code",
   "execution_count": 43,
   "metadata": {},
   "outputs": [
    {
     "data": {
      "text/plain": [
       "'0000'"
      ]
     },
     "execution_count": 43,
     "metadata": {},
     "output_type": "execute_result"
    }
   ],
   "source": [
    "str(0).ljust(4, '0')"
   ]
  },
  {
   "cell_type": "markdown",
   "metadata": {},
   "source": [
    "# Creating separate columns for slots provided for each day"
   ]
  },
  {
   "cell_type": "code",
   "execution_count": 44,
   "metadata": {},
   "outputs": [],
   "source": [
    "df['session_group_formatted'] = df['session_group'].apply(lambda x: str(x).ljust(4, '0'))\n",
    "df['day0_slot_type'] = df['session_group_formatted'].apply(lambda x: x[1])\n",
    "df['day1_slot_type'] = df['session_group_formatted'].apply(lambda x: x[2])\n",
    "df['day2_slot_type'] = df['session_group_formatted'].apply(lambda x: x[3])"
   ]
  },
  {
   "cell_type": "code",
   "execution_count": 45,
   "metadata": {},
   "outputs": [
    {
     "data": {
      "text/html": [
       "<div>\n",
       "<style scoped>\n",
       "    .dataframe tbody tr th:only-of-type {\n",
       "        vertical-align: middle;\n",
       "    }\n",
       "\n",
       "    .dataframe tbody tr th {\n",
       "        vertical-align: top;\n",
       "    }\n",
       "\n",
       "    .dataframe thead th {\n",
       "        text-align: right;\n",
       "    }\n",
       "</style>\n",
       "<table border=\"1\" class=\"dataframe\">\n",
       "  <thead>\n",
       "    <tr style=\"text-align: right;\">\n",
       "      <th></th>\n",
       "      <th>record_id</th>\n",
       "      <th>city_key</th>\n",
       "      <th>event_time</th>\n",
       "      <th>weekday</th>\n",
       "      <th>category_key</th>\n",
       "      <th>rptcatg</th>\n",
       "      <th>req_id</th>\n",
       "      <th>session_group</th>\n",
       "      <th>target</th>\n",
       "      <th>session_group_formatted</th>\n",
       "      <th>day0_slot_type</th>\n",
       "      <th>day1_slot_type</th>\n",
       "      <th>day2_slot_type</th>\n",
       "    </tr>\n",
       "  </thead>\n",
       "  <tbody>\n",
       "    <tr>\n",
       "      <th>0</th>\n",
       "      <td>5c1699b0c3658c25008e1192</td>\n",
       "      <td>city_chennai_v2</td>\n",
       "      <td>2018-12-17 00:00:08</td>\n",
       "      <td>weekday</td>\n",
       "      <td>professional_bathroom_cleaning</td>\n",
       "      <td>Cleaning - Other</td>\n",
       "      <td>5c1699d714bd522300fae954</td>\n",
       "      <td>3022</td>\n",
       "      <td>1</td>\n",
       "      <td>3022</td>\n",
       "      <td>0</td>\n",
       "      <td>2</td>\n",
       "      <td>2</td>\n",
       "    </tr>\n",
       "    <tr>\n",
       "      <th>1</th>\n",
       "      <td>5c1699b72dd2b92500f5f400</td>\n",
       "      <td>city_mumbai_v2</td>\n",
       "      <td>2018-12-17 00:00:15</td>\n",
       "      <td>weekday</td>\n",
       "      <td>electricians</td>\n",
       "      <td>EPC</td>\n",
       "      <td>5c1699ed70fa4f2500d66e7c</td>\n",
       "      <td>3303</td>\n",
       "      <td>1</td>\n",
       "      <td>3303</td>\n",
       "      <td>3</td>\n",
       "      <td>0</td>\n",
       "      <td>3</td>\n",
       "    </tr>\n",
       "    <tr>\n",
       "      <th>2</th>\n",
       "      <td>5c1699df4fb96a2400166132</td>\n",
       "      <td>city_mumbai_v2</td>\n",
       "      <td>2018-12-17 00:00:55</td>\n",
       "      <td>weekday</td>\n",
       "      <td>salon_at_home</td>\n",
       "      <td>Salon at Home</td>\n",
       "      <td>NaN</td>\n",
       "      <td>3330</td>\n",
       "      <td>0</td>\n",
       "      <td>3330</td>\n",
       "      <td>3</td>\n",
       "      <td>3</td>\n",
       "      <td>0</td>\n",
       "    </tr>\n",
       "    <tr>\n",
       "      <th>3</th>\n",
       "      <td>5c1699f405cbce26002ff832</td>\n",
       "      <td>city_kolkata_v2</td>\n",
       "      <td>2018-12-17 00:01:16</td>\n",
       "      <td>weekday</td>\n",
       "      <td>salon_at_home</td>\n",
       "      <td>Salon at Home</td>\n",
       "      <td>NaN</td>\n",
       "      <td>3330</td>\n",
       "      <td>0</td>\n",
       "      <td>3330</td>\n",
       "      <td>3</td>\n",
       "      <td>3</td>\n",
       "      <td>0</td>\n",
       "    </tr>\n",
       "    <tr>\n",
       "      <th>4</th>\n",
       "      <td>5c1699fb02f88224006901f5</td>\n",
       "      <td>city_chennai_v2</td>\n",
       "      <td>2018-12-17 00:01:23</td>\n",
       "      <td>weekday</td>\n",
       "      <td>plumbers</td>\n",
       "      <td>EPC</td>\n",
       "      <td>5c169a6c8c954c2200693538</td>\n",
       "      <td>3303</td>\n",
       "      <td>1</td>\n",
       "      <td>3303</td>\n",
       "      <td>3</td>\n",
       "      <td>0</td>\n",
       "      <td>3</td>\n",
       "    </tr>\n",
       "  </tbody>\n",
       "</table>\n",
       "</div>"
      ],
      "text/plain": [
       "                  record_id         city_key          event_time  weekday  \\\n",
       "0  5c1699b0c3658c25008e1192  city_chennai_v2 2018-12-17 00:00:08  weekday   \n",
       "1  5c1699b72dd2b92500f5f400   city_mumbai_v2 2018-12-17 00:00:15  weekday   \n",
       "2  5c1699df4fb96a2400166132   city_mumbai_v2 2018-12-17 00:00:55  weekday   \n",
       "3  5c1699f405cbce26002ff832  city_kolkata_v2 2018-12-17 00:01:16  weekday   \n",
       "4  5c1699fb02f88224006901f5  city_chennai_v2 2018-12-17 00:01:23  weekday   \n",
       "\n",
       "                     category_key           rptcatg                    req_id  \\\n",
       "0  professional_bathroom_cleaning  Cleaning - Other  5c1699d714bd522300fae954   \n",
       "1                    electricians               EPC  5c1699ed70fa4f2500d66e7c   \n",
       "2                   salon_at_home     Salon at Home                       NaN   \n",
       "3                   salon_at_home     Salon at Home                       NaN   \n",
       "4                        plumbers               EPC  5c169a6c8c954c2200693538   \n",
       "\n",
       "   session_group  target session_group_formatted day0_slot_type  \\\n",
       "0           3022       1                    3022              0   \n",
       "1           3303       1                    3303              3   \n",
       "2           3330       0                    3330              3   \n",
       "3           3330       0                    3330              3   \n",
       "4           3303       1                    3303              3   \n",
       "\n",
       "  day1_slot_type day2_slot_type  \n",
       "0              2              2  \n",
       "1              0              3  \n",
       "2              3              0  \n",
       "3              3              0  \n",
       "4              0              3  "
      ]
     },
     "execution_count": 45,
     "metadata": {},
     "output_type": "execute_result"
    }
   ],
   "source": [
    "df.head()"
   ]
  },
  {
   "cell_type": "markdown",
   "metadata": {},
   "source": [
    "# One-Hot encode the follwoing columns\n",
    "    - Weekday\n",
    "    - city_key\n",
    "    - rptcatg (super-category)\n",
    "    - Slots shown for day0, day1 & day2"
   ]
  },
  {
   "cell_type": "code",
   "execution_count": 46,
   "metadata": {},
   "outputs": [],
   "source": [
    "onehot_day0 = pd.get_dummies(df['day0_slot_type'], prefix='day0_slot_type', prefix_sep='_')\n",
    "onehot_day1 = pd.get_dummies(df['day1_slot_type'], prefix='day1_slot_type', prefix_sep='_')\n",
    "onehot_day2 = pd.get_dummies(df['day2_slot_type'], prefix='day2_slot_type', prefix_sep='_')"
   ]
  },
  {
   "cell_type": "code",
   "execution_count": 47,
   "metadata": {},
   "outputs": [],
   "source": [
    "onehot_weekday = pd.get_dummies(df['weekday'], prefix='day',  prefix_sep='_')\n",
    "onehot_city = pd.get_dummies(df['city_key'])\n",
    "onehot_supercat = pd.get_dummies(df['rptcatg'])"
   ]
  },
  {
   "cell_type": "code",
   "execution_count": null,
   "metadata": {},
   "outputs": [],
   "source": [
    "df.columns"
   ]
  },
  {
   "cell_type": "markdown",
   "metadata": {},
   "source": [
    "# Create new data frame concatinating one-hot variables from above "
   ]
  },
  {
   "cell_type": "code",
   "execution_count": 84,
   "metadata": {},
   "outputs": [],
   "source": [
    "expanded_df = df[['event_time', 'target']]"
   ]
  },
  {
   "cell_type": "code",
   "execution_count": 85,
   "metadata": {},
   "outputs": [],
   "source": [
    "# expanded_df = expanded_df.join([onehot_day0, onehot_day1, onehot_day2, onehot_weekday, onehot_supercat, onehot_city])\n",
    "expanded_df = expanded_df.join([onehot_day0, onehot_day1, onehot_day2, onehot_weekday, onehot_supercat])"
   ]
  },
  {
   "cell_type": "code",
   "execution_count": 86,
   "metadata": {},
   "outputs": [
    {
     "data": {
      "text/plain": [
       "27"
      ]
     },
     "execution_count": 86,
     "metadata": {},
     "output_type": "execute_result"
    }
   ],
   "source": [
    "len(expanded_df.columns)"
   ]
  },
  {
   "cell_type": "markdown",
   "metadata": {},
   "source": [
    "# Creating Training and Test dataset"
   ]
  },
  {
   "cell_type": "code",
   "execution_count": 87,
   "metadata": {},
   "outputs": [],
   "source": [
    "train_start_date = '12-17-2018'\n",
    "train_end_date = '01-14-2019'"
   ]
  },
  {
   "cell_type": "code",
   "execution_count": 88,
   "metadata": {},
   "outputs": [],
   "source": [
    "train_mask = (expanded_df['event_time'] >= train_start_date) & (expanded_df['event_time'] < train_end_date)"
   ]
  },
  {
   "cell_type": "code",
   "execution_count": 89,
   "metadata": {},
   "outputs": [],
   "source": [
    "train_df = expanded_df.loc[train_mask]"
   ]
  },
  {
   "cell_type": "code",
   "execution_count": 90,
   "metadata": {},
   "outputs": [
    {
     "data": {
      "text/plain": [
       "(644448, 27)"
      ]
     },
     "execution_count": 90,
     "metadata": {},
     "output_type": "execute_result"
    }
   ],
   "source": [
    "train_df.shape"
   ]
  },
  {
   "cell_type": "code",
   "execution_count": 91,
   "metadata": {},
   "outputs": [
    {
     "data": {
      "text/plain": [
       "(172082, 27)"
      ]
     },
     "execution_count": 91,
     "metadata": {},
     "output_type": "execute_result"
    }
   ],
   "source": [
    "test_start_date = '01-14-2019'\n",
    "test_end_date = '01-21-2019'\n",
    "\n",
    "test_mask = (expanded_df['event_time'] >= test_start_date) & (expanded_df['event_time'] < test_end_date)\n",
    "test_df = expanded_df.loc[test_mask]\n",
    "test_df.shape"
   ]
  },
  {
   "cell_type": "code",
   "execution_count": 92,
   "metadata": {},
   "outputs": [],
   "source": [
    "train_Y = train_df['target']\n",
    "train_X = train_df.drop(['target', 'event_time'], axis=1)"
   ]
  },
  {
   "cell_type": "code",
   "execution_count": 93,
   "metadata": {},
   "outputs": [],
   "source": [
    "test_y = test_df['target']\n",
    "test_x = test_df.drop(['target', 'event_time'], axis=1)"
   ]
  },
  {
   "cell_type": "code",
   "execution_count": 94,
   "metadata": {},
   "outputs": [
    {
     "data": {
      "text/plain": [
       "((172082, 25), (644448, 25))"
      ]
     },
     "execution_count": 94,
     "metadata": {},
     "output_type": "execute_result"
    }
   ],
   "source": [
    "test_x.shape, train_X.shape"
   ]
  },
  {
   "cell_type": "code",
   "execution_count": 95,
   "metadata": {},
   "outputs": [
    {
     "data": {
      "text/plain": [
       "((172082,), (644448,))"
      ]
     },
     "execution_count": 95,
     "metadata": {},
     "output_type": "execute_result"
    }
   ],
   "source": [
    "test_y.shape, train_Y.shape"
   ]
  },
  {
   "cell_type": "markdown",
   "metadata": {},
   "source": [
    "# Try out different classifier from sklearn"
   ]
  },
  {
   "cell_type": "code",
   "execution_count": 110,
   "metadata": {},
   "outputs": [],
   "source": [
    "from sklearn.linear_model import LogisticRegression\n",
    "from sklearn.tree import DecisionTreeClassifier\n",
    "from sklearn.naive_bayes import GaussianNB"
   ]
  },
  {
   "cell_type": "code",
   "execution_count": 108,
   "metadata": {},
   "outputs": [
    {
     "name": "stderr",
     "output_type": "stream",
     "text": [
      "/Users/anuragsharma/.virtualenvs/data-science/lib/python3.6/site-packages/sklearn/linear_model/logistic.py:433: FutureWarning: Default solver will be changed to 'lbfgs' in 0.22. Specify a solver to silence this warning.\n",
      "  FutureWarning)\n"
     ]
    },
    {
     "name": "stdout",
     "output_type": "stream",
     "text": [
      "0.5876967575351308\n",
      "0.5802175706930417\n"
     ]
    }
   ],
   "source": [
    "lr_clf = LogisticRegression()\n",
    "lr_clf.fit(train_X, train_Y)\n",
    "print(lr_clf.score(train_X, train_Y))\n",
    "print(lr_clf.score(test_x, test_y))"
   ]
  },
  {
   "cell_type": "code",
   "execution_count": 109,
   "metadata": {},
   "outputs": [
    {
     "name": "stdout",
     "output_type": "stream",
     "text": [
      "0.5904122597944287\n",
      "0.5760741971850629\n"
     ]
    }
   ],
   "source": [
    "dt_clf = DecisionTreeClassifier()\n",
    "dt_clf.fit(train_X, train_Y)\n",
    "print(dt_clf.score(train_X, train_Y))\n",
    "print(dt_clf.score(test_x, test_y))"
   ]
  },
  {
   "cell_type": "code",
   "execution_count": 111,
   "metadata": {},
   "outputs": [
    {
     "name": "stdout",
     "output_type": "stream",
     "text": [
      "0.5370223819454789\n",
      "0.5375925430899222\n"
     ]
    }
   ],
   "source": [
    "nb_clf = GaussianNB()\n",
    "nb_clf.fit(train_X, train_Y)\n",
    "print(nb_clf.score(train_X, train_Y))\n",
    "print(nb_clf.score(test_x, test_y))"
   ]
  },
  {
   "cell_type": "markdown",
   "metadata": {},
   "source": [
    "# Take Neural Network approach to see if the accuracy score improves"
   ]
  },
  {
   "cell_type": "code",
   "execution_count": 115,
   "metadata": {},
   "outputs": [],
   "source": [
    "from keras.models import Sequential\n",
    "from keras.layers import Dense, Dropout\n",
    "from keras.regularizers import l2"
   ]
  },
  {
   "cell_type": "code",
   "execution_count": 127,
   "metadata": {},
   "outputs": [],
   "source": [
    "model = Sequential()\n",
    "\n",
    "model.add(Dense(32, activation='relu', input_dim=train_X.shape[1]))\n",
    "model.add(Dropout(0.25))\n",
    "\n",
    "model.add(Dense(16, activation='relu'))\n",
    "model.add(Dropout(0.25))\n",
    "\n",
    "model.add(Dense(8, activation='relu'))\n",
    "model.add(Dropout(0.25))\n",
    "\n",
    "model.add(Dense(1, activation='sigmoid'))"
   ]
  },
  {
   "cell_type": "code",
   "execution_count": 128,
   "metadata": {},
   "outputs": [],
   "source": [
    "model.compile(loss='binary_crossentropy', optimizer='adam', metrics=['accuracy'])"
   ]
  },
  {
   "cell_type": "code",
   "execution_count": 129,
   "metadata": {},
   "outputs": [
    {
     "name": "stdout",
     "output_type": "stream",
     "text": [
      "_________________________________________________________________\n",
      "Layer (type)                 Output Shape              Param #   \n",
      "=================================================================\n",
      "dense_7 (Dense)              (None, 32)                832       \n",
      "_________________________________________________________________\n",
      "dropout_5 (Dropout)          (None, 32)                0         \n",
      "_________________________________________________________________\n",
      "dense_8 (Dense)              (None, 16)                528       \n",
      "_________________________________________________________________\n",
      "dropout_6 (Dropout)          (None, 16)                0         \n",
      "_________________________________________________________________\n",
      "dense_9 (Dense)              (None, 8)                 136       \n",
      "_________________________________________________________________\n",
      "dropout_7 (Dropout)          (None, 8)                 0         \n",
      "_________________________________________________________________\n",
      "dense_10 (Dense)             (None, 1)                 9         \n",
      "=================================================================\n",
      "Total params: 1,505\n",
      "Trainable params: 1,505\n",
      "Non-trainable params: 0\n",
      "_________________________________________________________________\n"
     ]
    }
   ],
   "source": [
    "model.summary()"
   ]
  },
  {
   "cell_type": "code",
   "execution_count": 130,
   "metadata": {},
   "outputs": [
    {
     "name": "stdout",
     "output_type": "stream",
     "text": [
      "Train on 644448 samples, validate on 172082 samples\n",
      "Epoch 1/50\n",
      "644448/644448 [==============================] - 14s 22us/step - loss: 0.6708 - acc: 0.5781 - val_loss: 0.6707 - val_acc: 0.5818\n",
      "Epoch 2/50\n",
      "644448/644448 [==============================] - 12s 18us/step - loss: 0.6677 - acc: 0.5846 - val_loss: 0.6727 - val_acc: 0.5821\n",
      "Epoch 3/50\n",
      "644448/644448 [==============================] - 12s 18us/step - loss: 0.6675 - acc: 0.5848 - val_loss: 0.6713 - val_acc: 0.5806\n",
      "Epoch 4/50\n",
      "644448/644448 [==============================] - 10s 16us/step - loss: 0.6671 - acc: 0.5851 - val_loss: 0.6708 - val_acc: 0.5821\n",
      "Epoch 5/50\n",
      "644448/644448 [==============================] - 10s 16us/step - loss: 0.6670 - acc: 0.5856 - val_loss: 0.6704 - val_acc: 0.5829\n",
      "Epoch 6/50\n",
      "644448/644448 [==============================] - 10s 16us/step - loss: 0.6667 - acc: 0.5858 - val_loss: 0.6707 - val_acc: 0.5831\n",
      "Epoch 7/50\n",
      "644448/644448 [==============================] - 10s 15us/step - loss: 0.6667 - acc: 0.5858 - val_loss: 0.6699 - val_acc: 0.5823\n",
      "Epoch 8/50\n",
      "644448/644448 [==============================] - 11s 16us/step - loss: 0.6665 - acc: 0.5861 - val_loss: 0.6707 - val_acc: 0.5816\n",
      "Epoch 9/50\n",
      "644448/644448 [==============================] - 10s 15us/step - loss: 0.6665 - acc: 0.5852 - val_loss: 0.6711 - val_acc: 0.5790\n",
      "Epoch 10/50\n",
      "644448/644448 [==============================] - 10s 15us/step - loss: 0.6664 - acc: 0.5858 - val_loss: 0.6703 - val_acc: 0.5784\n",
      "Epoch 11/50\n",
      "644448/644448 [==============================] - 11s 17us/step - loss: 0.6664 - acc: 0.5858 - val_loss: 0.6708 - val_acc: 0.5776\n",
      "Epoch 12/50\n",
      "644448/644448 [==============================] - 12s 19us/step - loss: 0.6663 - acc: 0.5862 - val_loss: 0.6715 - val_acc: 0.5779\n",
      "Epoch 13/50\n",
      "644448/644448 [==============================] - 11s 17us/step - loss: 0.6664 - acc: 0.5860 - val_loss: 0.6705 - val_acc: 0.5804\n",
      "Epoch 14/50\n",
      "644448/644448 [==============================] - 11s 17us/step - loss: 0.6665 - acc: 0.5859 - val_loss: 0.6709 - val_acc: 0.5796\n",
      "Epoch 15/50\n",
      "644448/644448 [==============================] - 10s 16us/step - loss: 0.6665 - acc: 0.5861 - val_loss: 0.6715 - val_acc: 0.5795\n",
      "Epoch 16/50\n",
      "644448/644448 [==============================] - 12s 18us/step - loss: 0.6663 - acc: 0.5864 - val_loss: 0.6716 - val_acc: 0.5778\n",
      "Epoch 17/50\n",
      "644448/644448 [==============================] - 11s 17us/step - loss: 0.6663 - acc: 0.5869 - val_loss: 0.6719 - val_acc: 0.5796\n",
      "Epoch 18/50\n",
      "644448/644448 [==============================] - 10s 16us/step - loss: 0.6663 - acc: 0.5861 - val_loss: 0.6709 - val_acc: 0.5798\n",
      "Epoch 19/50\n",
      "644448/644448 [==============================] - 11s 17us/step - loss: 0.6664 - acc: 0.5861 - val_loss: 0.6713 - val_acc: 0.5770\n",
      "Epoch 20/50\n",
      "644448/644448 [==============================] - 11s 16us/step - loss: 0.6664 - acc: 0.5862 - val_loss: 0.6714 - val_acc: 0.5787\n",
      "Epoch 21/50\n",
      "644448/644448 [==============================] - 10s 16us/step - loss: 0.6663 - acc: 0.5860 - val_loss: 0.6709 - val_acc: 0.5792\n",
      "Epoch 22/50\n",
      "644448/644448 [==============================] - 11s 17us/step - loss: 0.6663 - acc: 0.5860 - val_loss: 0.6716 - val_acc: 0.5793\n",
      "Epoch 23/50\n",
      "644448/644448 [==============================] - 11s 17us/step - loss: 0.6661 - acc: 0.5865 - val_loss: 0.6709 - val_acc: 0.5794\n",
      "Epoch 24/50\n",
      "644448/644448 [==============================] - 11s 17us/step - loss: 0.6662 - acc: 0.5862 - val_loss: 0.6724 - val_acc: 0.5798\n",
      "Epoch 25/50\n",
      "644448/644448 [==============================] - 13s 19us/step - loss: 0.6663 - acc: 0.5860 - val_loss: 0.6708 - val_acc: 0.5783\n",
      "Epoch 26/50\n",
      "644448/644448 [==============================] - 11s 16us/step - loss: 0.6661 - acc: 0.5865 - val_loss: 0.6710 - val_acc: 0.5788\n",
      "Epoch 27/50\n",
      "644448/644448 [==============================] - 10s 16us/step - loss: 0.6662 - acc: 0.5865 - val_loss: 0.6711 - val_acc: 0.5777\n",
      "Epoch 28/50\n",
      "644448/644448 [==============================] - 11s 17us/step - loss: 0.6662 - acc: 0.5866 - val_loss: 0.6718 - val_acc: 0.5762\n",
      "Epoch 29/50\n",
      "644448/644448 [==============================] - 12s 18us/step - loss: 0.6662 - acc: 0.5866 - val_loss: 0.6719 - val_acc: 0.5754\n",
      "Epoch 30/50\n",
      "644448/644448 [==============================] - 11s 18us/step - loss: 0.6662 - acc: 0.5859 - val_loss: 0.6714 - val_acc: 0.5766\n",
      "Epoch 31/50\n",
      "644448/644448 [==============================] - 12s 18us/step - loss: 0.6663 - acc: 0.5864 - val_loss: 0.6715 - val_acc: 0.5774\n",
      "Epoch 32/50\n",
      "644448/644448 [==============================] - 11s 17us/step - loss: 0.6661 - acc: 0.5859 - val_loss: 0.6715 - val_acc: 0.5789\n",
      "Epoch 33/50\n",
      "644448/644448 [==============================] - 11s 17us/step - loss: 0.6662 - acc: 0.5861 - val_loss: 0.6711 - val_acc: 0.5786\n",
      "Epoch 34/50\n",
      "644448/644448 [==============================] - 12s 18us/step - loss: 0.6664 - acc: 0.5869 - val_loss: 0.6713 - val_acc: 0.5791\n",
      "Epoch 35/50\n",
      "644448/644448 [==============================] - 11s 16us/step - loss: 0.6661 - acc: 0.5865 - val_loss: 0.6712 - val_acc: 0.5800\n",
      "Epoch 36/50\n",
      "644448/644448 [==============================] - 10s 16us/step - loss: 0.6663 - acc: 0.5858 - val_loss: 0.6717 - val_acc: 0.5783\n",
      "Epoch 37/50\n",
      "644448/644448 [==============================] - 11s 18us/step - loss: 0.6662 - acc: 0.5862 - val_loss: 0.6713 - val_acc: 0.5789\n",
      "Epoch 38/50\n",
      "644448/644448 [==============================] - 11s 16us/step - loss: 0.6662 - acc: 0.5862 - val_loss: 0.6714 - val_acc: 0.5781\n",
      "Epoch 39/50\n",
      "644448/644448 [==============================] - 12s 19us/step - loss: 0.6661 - acc: 0.5863 - val_loss: 0.6720 - val_acc: 0.5792\n",
      "Epoch 40/50\n",
      "644448/644448 [==============================] - 11s 17us/step - loss: 0.6662 - acc: 0.5861 - val_loss: 0.6708 - val_acc: 0.5787\n",
      "Epoch 41/50\n",
      "644448/644448 [==============================] - 11s 18us/step - loss: 0.6662 - acc: 0.5858 - val_loss: 0.6717 - val_acc: 0.5799\n",
      "Epoch 42/50\n",
      "644448/644448 [==============================] - 12s 19us/step - loss: 0.6662 - acc: 0.5862 - val_loss: 0.6709 - val_acc: 0.5795\n",
      "Epoch 43/50\n",
      "644448/644448 [==============================] - 11s 18us/step - loss: 0.6662 - acc: 0.5866 - val_loss: 0.6718 - val_acc: 0.5790\n",
      "Epoch 44/50\n",
      "644448/644448 [==============================] - 11s 17us/step - loss: 0.6661 - acc: 0.5864 - val_loss: 0.6718 - val_acc: 0.5770\n",
      "Epoch 45/50\n",
      "644448/644448 [==============================] - 11s 17us/step - loss: 0.6662 - acc: 0.5862 - val_loss: 0.6718 - val_acc: 0.5778\n",
      "Epoch 46/50\n",
      "644448/644448 [==============================] - 10s 16us/step - loss: 0.6663 - acc: 0.5866 - val_loss: 0.6727 - val_acc: 0.5783\n",
      "Epoch 47/50\n",
      "644448/644448 [==============================] - 11s 18us/step - loss: 0.6662 - acc: 0.5863 - val_loss: 0.6721 - val_acc: 0.5771\n",
      "Epoch 48/50\n",
      "644448/644448 [==============================] - 10s 16us/step - loss: 0.6662 - acc: 0.5867 - val_loss: 0.6717 - val_acc: 0.5776\n",
      "Epoch 49/50\n",
      "644448/644448 [==============================] - 12s 18us/step - loss: 0.6663 - acc: 0.5862 - val_loss: 0.6717 - val_acc: 0.5784\n",
      "Epoch 50/50\n",
      "644448/644448 [==============================] - 11s 17us/step - loss: 0.6662 - acc: 0.5862 - val_loss: 0.6715 - val_acc: 0.5755\n"
     ]
    }
   ],
   "source": [
    "model_output = model.fit(train_X, train_Y, epochs=50, batch_size=128, \n",
    "                         verbose=True, validation_data=(test_x, test_y))"
   ]
  },
  {
   "cell_type": "code",
   "execution_count": 131,
   "metadata": {},
   "outputs": [
    {
     "name": "stdout",
     "output_type": "stream",
     "text": [
      "[0.5781350861527287, 0.584596429812801, 0.5848121182809278, 0.5850836685038979, 0.5856190103778738, 0.5858300436963106, 0.5857912508068921, 0.5860721113262823, 0.5851565991360048, 0.5857741819325882, 0.5858021128188889, 0.5861776279825411, 0.5859634912329508, 0.5859184914812252, 0.5861310765211581, 0.5863731441511298, 0.5869364168995678, 0.5861264213685087, 0.5860612493142855, 0.5862334897492232, 0.5860209047122499, 0.5860348701524405, 0.5864786608103483, 0.5861838348478078, 0.5860410770162273, 0.5865360742837281, 0.5865143502656537, 0.5866291772183326, 0.5865593500144195, 0.5858952157475741, 0.5863824544416306, 0.5859262500620687, 0.5860752147574358, 0.5868960722975322, 0.5865159019782707, 0.5857943542410052, 0.5862303863180697, 0.5861528005333132, 0.5862707309171457, 0.5860581458890514, 0.5858207334028502, 0.5861822831351906, 0.5865950394786039, 0.5864383161994337, 0.586208662294076, 0.5865562465891854, 0.5863033169501765, 0.586678832119748, 0.5861915934227317, 0.586224179452803]\n",
      "[0.5818388907613812, 0.5821410722794946, 0.5805778640415615, 0.5821062051812508, 0.5828965260747783, 0.5831115398472821, 0.5823095965876733, 0.5815948210736742, 0.578956543973222, 0.5783812368521983, 0.5775618600434677, 0.5779163422089469, 0.5803802838181797, 0.579560907009449, 0.5795202287281644, 0.5778001185481341, 0.5796364523889773, 0.579804976697156, 0.5770446647528504, 0.5786776071872712, 0.579154124196604, 0.5793226485047827, 0.5794446833486361, 0.5798282214293186, 0.5783405585709138, 0.5788403203124092, 0.5776606501551586, 0.576236910310201, 0.5753768552201858, 0.5766030148417615, 0.5774456363826548, 0.5789158656919375, 0.5786311177229461, 0.5791018235492381, 0.5800199904696598, 0.5782824467405074, 0.578875187410653, 0.5780906777001662, 0.579154124196604, 0.5787124742855151, 0.5799386339070908, 0.5794795504468799, 0.5789507327901814, 0.5769981752885253, 0.5777536290838089, 0.5782824467405074, 0.5770562871189316, 0.5775676712265083, 0.5783986704013203, 0.5755163236131612]\n"
     ]
    }
   ],
   "source": [
    "print(model_output.history[\"acc\"])\n",
    "print(model_output.history[\"val_acc\"])"
   ]
  },
  {
   "cell_type": "code",
   "execution_count": null,
   "metadata": {},
   "outputs": [],
   "source": []
  },
  {
   "cell_type": "code",
   "execution_count": null,
   "metadata": {},
   "outputs": [],
   "source": []
  }
 ],
 "metadata": {
  "kernelspec": {
   "display_name": "Python 3",
   "language": "python",
   "name": "python3"
  },
  "language_info": {
   "codemirror_mode": {
    "name": "ipython",
    "version": 3
   },
   "file_extension": ".py",
   "mimetype": "text/x-python",
   "name": "python",
   "nbconvert_exporter": "python",
   "pygments_lexer": "ipython3",
   "version": "3.6.8"
  }
 },
 "nbformat": 4,
 "nbformat_minor": 2
}
