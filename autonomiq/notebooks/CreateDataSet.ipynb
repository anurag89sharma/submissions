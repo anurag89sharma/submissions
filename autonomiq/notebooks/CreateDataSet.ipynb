{
 "cells": [
  {
   "cell_type": "code",
   "execution_count": null,
   "metadata": {},
   "outputs": [],
   "source": []
  },
  {
   "cell_type": "code",
   "execution_count": 1,
   "metadata": {},
   "outputs": [],
   "source": [
    "action_syn = [(\"select\", \"click\", \"deselect\"), (\"verify\", \"validate\"), (\"clicking\", \"selecting\"), \n",
    "              (\"navigate\", \"go to\", \"on\"), (\"login\", \"log in\", \"enter\"), (\"logout\", \"log out\"), (\"assign\", \"select\")]"
   ]
  },
  {
   "cell_type": "code",
   "execution_count": 2,
   "metadata": {},
   "outputs": [],
   "source": [
    "label_syn = [(\"username\", \"user name\"), (\"next\", \"previous\"), (\"complete\", \"ok\"), (\"user id\", \"userid\")]"
   ]
  },
  {
   "cell_type": "code",
   "execution_count": 3,
   "metadata": {},
   "outputs": [],
   "source": [
    "entities = ['action', 'label', 'data']"
   ]
  },
  {
   "cell_type": "code",
   "execution_count": 4,
   "metadata": {},
   "outputs": [],
   "source": [
    "x1 = [\"\"\"Select Asset Class as \"CC\" and select Deal Type as \"TRADE CC\" \"\"\",  \n",
    " ('select', 'Asset Class', 'CC'),( 'select', 'Deal Type', 'TRADE CC')]"
   ]
  },
  {
   "cell_type": "code",
   "execution_count": 5,
   "metadata": {},
   "outputs": [],
   "source": [
    "x2 = [\"\"\"Select the following for the Equipment Information section:\n",
    "a. - Site\n",
    "b. - Legal Product Category\"\"\", ('select', 'site', ''),('select', 'Legal Product Category','')]"
   ]
  },
  {
   "cell_type": "code",
   "execution_count": 6,
   "metadata": {},
   "outputs": [],
   "source": [
    "x3 = [\"\"\"Go to 'Action' dropdown and select 'Pay in Full'\"\"\", ('select', 'action', 'Pay in Full')]"
   ]
  },
  {
   "cell_type": "code",
   "execution_count": 7,
   "metadata": {},
   "outputs": [],
   "source": [
    "x4 = [\"\"\"Click 'Actions' dropdown and select 'Post to Ledger'\"\"\", ('select', 'action', 'Post to Ledger')]"
   ]
  },
  {
   "cell_type": "code",
   "execution_count": 8,
   "metadata": {},
   "outputs": [],
   "source": [
    "x5 = [\"\"\"Select branch name as \"Retail Branch\", Rep Name as \"Retail.io\" and click on login\"\"\", \n",
    "('select', 'branch name', 'Retail Branch'), ('select', 'Rep Name', 'Retail.io'), ('click', 'login', '')]"
   ]
  },
  {
   "cell_type": "code",
   "execution_count": 9,
   "metadata": {},
   "outputs": [],
   "source": [
    "x6 = [\"\"\"Select the reason: Cancel Invoice\"\"\", ('select', 'reason', 'cancel invoice')]"
   ]
  },
  {
   "cell_type": "code",
   "execution_count": 10,
   "metadata": {},
   "outputs": [],
   "source": [
    "x7 = [\"\"\"Assign voice lines to the user and Enter \"test1222\" in username input\"\"\", \n",
    "('assign', 'user', 'voice lines'), ('enter', 'username', 'test1222')]"
   ]
  },
  {
   "cell_type": "code",
   "execution_count": 11,
   "metadata": {},
   "outputs": [],
   "source": [
    "x8 = [\"\"\"On select user , selected data should be showed\"\"\", ('select', '', 'user')]"
   ]
  },
  {
   "cell_type": "code",
   "execution_count": 12,
   "metadata": {},
   "outputs": [],
   "source": [
    "x9 = [\"\"\"Verify country dropdown is on the page and select india after opening the dropdown\"\"\", \n",
    "('verify', 'country', ''),('select', '', 'india')]"
   ]
  },
  {
   "cell_type": "code",
   "execution_count": 13,
   "metadata": {},
   "outputs": [],
   "source": [
    "x10 = [\"\"\"Enter \"test1222\" in username input\"\"\", ('enter', 'username', 'test1222')]"
   ]
  },
  {
   "cell_type": "code",
   "execution_count": 14,
   "metadata": {},
   "outputs": [],
   "source": [
    "x11 = [\"\"\"Enter the following information to login 1) username 2) password\"\"\", ('enter','username',''),('enter','password', '')]"
   ]
  },
  {
   "cell_type": "code",
   "execution_count": 15,
   "metadata": {},
   "outputs": [],
   "source": [
    "x12 = [\"\"\"To create lead, enter username , lead name and address\"\"\", ('enter','username',''),('enter','lead name',''),('enter', 'address','')]"
   ]
  },
  {
   "cell_type": "code",
   "execution_count": 16,
   "metadata": {},
   "outputs": [],
   "source": [
    "x13 = [\"\"\"Enter \"basket\" in \"field\" data and enter \"milk\" in \"search\" \"\"\", ('Enter', 'field', 'basket'), ('enter', 'search', 'milk')]"
   ]
  },
  {
   "cell_type": "code",
   "execution_count": 17,
   "metadata": {},
   "outputs": [],
   "source": [
    "x14 = [\"\"\"Click on login button\"\"\", ('click', 'login', '')]"
   ]
  },
  {
   "cell_type": "code",
   "execution_count": 18,
   "metadata": {},
   "outputs": [],
   "source": [
    "x15 = [\"\"\"Save the lead by clicking on save\"\"\", ('clicking', 'save', '')]"
   ]
  },
  {
   "cell_type": "code",
   "execution_count": 19,
   "metadata": {},
   "outputs": [],
   "source": [
    "x16 = [\"\"\"Verify Manage Payments page is displays\"\"\", ('verify', 'manage payments page', '')]"
   ]
  },
  {
   "cell_type": "code",
   "execution_count": 20,
   "metadata": {},
   "outputs": [],
   "source": [
    "x17 = [\"\"\"Verify Invoice Line gets displayed\"\"\", ('verify', 'invoice line', '')]"
   ]
  },
  {
   "cell_type": "code",
   "execution_count": 21,
   "metadata": {},
   "outputs": [],
   "source": [
    "x18 = [\"\"\"Verify \"test\" is on the screen\"\"\", ('verify', 'test', '')]"
   ]
  },
  {
   "cell_type": "code",
   "execution_count": 22,
   "metadata": {},
   "outputs": [],
   "source": [
    "x19 = [\"\"\"On clicking on edit , verify edit page is displayed\"\"\", ('clicking', 'edit', ''),('verify', 'edit page', '')]"
   ]
  },
  {
   "cell_type": "code",
   "execution_count": 23,
   "metadata": {},
   "outputs": [],
   "source": [
    "x20 = [\"\"\"Verify FICO Details are reflecting in Borrower details Tab\"\"\", (\"verify\", 'Fico Details','')]"
   ]
  },
  {
   "cell_type": "code",
   "execution_count": 24,
   "metadata": {},
   "outputs": [],
   "source": [
    "x21 = [\"\"\"Click Trades tab from the list of tabs in XVA Home page\"\"\", ('click', 'trades tab', '')]"
   ]
  },
  {
   "cell_type": "code",
   "execution_count": 25,
   "metadata": {},
   "outputs": [],
   "source": [
    "x22 = [\"\"\"Navigate to Manage Users Page by clicking on the Users link\"\"\", (\"clicking\", \"users\",\"\")]"
   ]
  },
  {
   "cell_type": "code",
   "execution_count": 26,
   "metadata": {},
   "outputs": [],
   "source": [
    "x23 = [\"\"\"Navigate to url https://www.spectrumbusiness.net/#/login\"\"\", (\"navigate\", \"url\", \"\")]"
   ]
  },
  {
   "cell_type": "code",
   "execution_count": 27,
   "metadata": {},
   "outputs": [],
   "source": [
    "x24 = [\"\"\"Enter the Account Owner username and password and click on Sign In\"\"\", \n",
    " (\"enter\", \"username\", \"\"), (\"enter\", \"password\", \"\"), (\"click\", \"sign in\", \"\")]"
   ]
  },
  {
   "cell_type": "code",
   "execution_count": 28,
   "metadata": {},
   "outputs": [],
   "source": [
    "x25 = [\"\"\"Navigate to Manage Users Page [Overview->Manage Users] and click on Add User button\"\"\", \n",
    " (\"navigate\", \"Overview\", \"\"), (\"navigate\", \"Manage Users\", \"\"), (\"click\", \"Add User\", \"\")]"
   ]
  },
  {
   "cell_type": "code",
   "execution_count": 29,
   "metadata": {},
   "outputs": [],
   "source": [
    "x26 = [\"\"\"Complete the Add New Standard User steps without assigning a line to the Standard User\"\"\", \n",
    " (\"complete\", \"Add New Standard User\", \"\")]"
   ]
  },
  {
   "cell_type": "code",
   "execution_count": 30,
   "metadata": {},
   "outputs": [],
   "source": [
    "x27 = [\"\"\"Logout of SpectrumBusiness.Net Account Owner User\"\"\", (\"logout\", \"account owner\", \"\")]"
   ]
  },
  {
   "cell_type": "code",
   "execution_count": 31,
   "metadata": {},
   "outputs": [],
   "source": [
    "x28 = [\"\"\"Login into the registered email address given during standard user creation and Activate the standard User\"\"\", \n",
    " (\"login\", \"registered email address\", \"\"), (\"activate\", \"standard user\", \"\")]"
   ]
  },
  {
   "cell_type": "code",
   "execution_count": 32,
   "metadata": {},
   "outputs": [],
   "source": [
    "x29 = [\"\"\"On the account Summary page, verify that the Voice Tile is not displayed\"\"\", \n",
    "(\"on\", \"account summary\", \"\"), (\"verify\", \"voice tile\", \"\")]"
   ]
  },
  {
   "cell_type": "code",
   "execution_count": 33,
   "metadata": {},
   "outputs": [],
   "source": [
    "x30 = [\"\"\"Log out of Spectrum Business.Net Standard user\"\"\", (\"Log out\", \"Standard user\", \"\")]"
   ]
  },
  {
   "cell_type": "code",
   "execution_count": 34,
   "metadata": {},
   "outputs": [],
   "source": [
    "x31 = [\"\"\"Login into SpectrumBusiness.Net using the Account holder User\"\"\", (\"Login\", \"Account holder User\", \"\")]"
   ]
  },
  {
   "cell_type": "code",
   "execution_count": 35,
   "metadata": {},
   "outputs": [],
   "source": [
    "x32 = [\"\"\"Navigate to Manage lines in Voice tile\"\"\", (\"navigate\", \"voice tile\", \"\"), (\"navigate\", \"manage lines\", \"\")]"
   ]
  },
  {
   "cell_type": "code",
   "execution_count": 36,
   "metadata": {},
   "outputs": [],
   "source": [
    "x33 = [\"\"\"Click on a voice line and click on Edit and assign a Voice line to the Standard user and save the changes\"\"\", \n",
    " (\"click\", \"voice line\", \"\"), (\"click\", \"edit\", \"\"), (\"assign\", \"voice line\", \"\"), (\"save\", \"\", \"\")]"
   ]
  },
  {
   "cell_type": "code",
   "execution_count": 37,
   "metadata": {},
   "outputs": [],
   "source": [
    "x34 = [\"\"\"Logout of SpectrumBusiness.Net Account Owner User\"\"\", (\"logout\", \"account owner user\", \"\")]"
   ]
  },
  {
   "cell_type": "code",
   "execution_count": 38,
   "metadata": {},
   "outputs": [],
   "source": [
    "x35 = [\"\"\"Login into SpectrumBusiness.Net using the Standard User\"\"\", (\"login\", \"standard user\", \"\")]"
   ]
  },
  {
   "cell_type": "code",
   "execution_count": 39,
   "metadata": {},
   "outputs": [],
   "source": [
    "x36 = [\"\"\"Click on the Voice Tile and verify whether user is redirected to the Voice Messages page of the newly assigned phone line.\"\"\", \n",
    " (\"click\", \"voice tile\", \"\"), (\"verify\", \"Voice Messages\", \"\")]"
   ]
  },
  {
   "cell_type": "code",
   "execution_count": 40,
   "metadata": {},
   "outputs": [],
   "source": [
    "x37 = [\"\"\"Navigate to Manage User Page by clicking on the Users link\"\"\", (\"navigate\", \"manage user\", \"\"), \n",
    " (\"clicking\", \"User\", \"\")]"
   ]
  },
  {
   "cell_type": "code",
   "execution_count": 41,
   "metadata": {},
   "outputs": [],
   "source": [
    "x38 = [\"\"\"Click on the Standard user from the user list\"\"\", \n",
    " (\"click\", \"user list\", \"standard user\")]"
   ]
  },
  {
   "cell_type": "code",
   "execution_count": 42,
   "metadata": {},
   "outputs": [],
   "source": [
    "x39 = [\"\"\"Click on 'Edit' link on the user detail page\"\"\", (\"click\", \"user detail\", \"edit\")]"
   ]
  },
  {
   "cell_type": "code",
   "execution_count": 43,
   "metadata": {},
   "outputs": [],
   "source": [
    "x40 = [\"\"\"Click on 'Delete User' link on the Edit user page\"\"\", (\"click\", \"edit user\", \"delete user\")]"
   ]
  },
  {
   "cell_type": "code",
   "execution_count": 44,
   "metadata": {},
   "outputs": [],
   "source": [
    "x41 = [\"\"\"Click on 'Confirm' button on the 'Delete User' popup\"\"\", (\"click\", \"delete user\", \"confirm\")]"
   ]
  },
  {
   "cell_type": "code",
   "execution_count": 45,
   "metadata": {},
   "outputs": [],
   "source": [
    "x42 = [\"\"\"Login to \"H20\" Application with valid user name and password\"\"\", (\"login\", \"user name\", \"\"), (\"login\", \"password\", \"\")]"
   ]
  },
  {
   "cell_type": "code",
   "execution_count": 46,
   "metadata": {},
   "outputs": [],
   "source": [
    "x43 = [\"\"\"Mouse hover to \"Loan\" tab and click on \"Create New Loan\" Button\"\"\", \n",
    " (\"mouse hover\", \"loan\", \"\"), (\"click\", \"create new loan\", \"\")]"
   ]
  },
  {
   "cell_type": "code",
   "execution_count": 47,
   "metadata": {},
   "outputs": [],
   "source": [
    "x44 = [\"\"\"Select  branch name as \"Retail Branch\", Rep Name as \"Retail.io\" \"\"\", \n",
    " (\"select\", \"branch name\", \"retail branch\"), (\"select\", \"rep name\", \"retail.io\")]"
   ]
  },
  {
   "cell_type": "code",
   "execution_count": 48,
   "metadata": {},
   "outputs": [],
   "source": [
    "x45 = [\"\"\"Select Lead Type 1 as \"Self Generated\" and Lead source 1 as \"Purchase\" \"\"\", \n",
    " (\"select\", \"lead type 1\", \"self generated\"), (\"select\", \"source 1\", \"purchase\")]"
   ]
  },
  {
   "cell_type": "code",
   "execution_count": 49,
   "metadata": {},
   "outputs": [],
   "source": [
    "x46 = [\"\"\"Click on \"Create Loan By\" dropdown and select \"Copy From Existing\" Loan\"\"\", \n",
    " (\"click\", \"create loan by\", \"\"), (\"select\", \"copy from existing\", \"\")]"
   ]
  },
  {
   "cell_type": "code",
   "execution_count": 50,
   "metadata": {},
   "outputs": [],
   "source": [
    "x47 = [\"\"\"Click on \"Matches\" and Select any loan number to copy\"\"\", \n",
    " (\"click\", \"matches\", \"\"), (\"select\", \"loan number\", \"\")]"
   ]
  },
  {
   "cell_type": "code",
   "execution_count": 51,
   "metadata": {},
   "outputs": [],
   "source": [
    "x48 = [\"\"\"Click on \"Search\" button\"\"\", (\"click\", \"search\", \"\")]"
   ]
  },
  {
   "cell_type": "code",
   "execution_count": 52,
   "metadata": {},
   "outputs": [],
   "source": [
    "x49 = [\"\"\"Click on \"Copy\" \"\"\", (\"click\", \"copy\", \"\")]"
   ]
  },
  {
   "cell_type": "code",
   "execution_count": 53,
   "metadata": {},
   "outputs": [],
   "source": [
    "x50 = [\"\"\"Select state from \"Subject Property state\" dropdown.\"\"\", (\"select\", \"Subject Property state\", \"\")]"
   ]
  },
  {
   "cell_type": "code",
   "execution_count": 54,
   "metadata": {},
   "outputs": [],
   "source": [
    "x51 = [\"\"\"Click on \"Next\" Button\"\"\", (\"click\", \"next\", \"\")]"
   ]
  },
  {
   "cell_type": "code",
   "execution_count": 55,
   "metadata": {},
   "outputs": [],
   "source": [
    "x52 = [\"\"\"Click on \"Create Loan By\" dropdown and select \"Import DU 3.2 FILE\".\"\"\", \n",
    " (\"click\", \"create loan by\", \"\"), (\"select\", \"import DU 3.2 file\", \"\")]"
   ]
  },
  {
   "cell_type": "code",
   "execution_count": 56,
   "metadata": {},
   "outputs": [],
   "source": [
    "x53 = [\"\"\"Click on Browse and Select document\"\"\", (\"click\", \"browse\", \"\"), (\"select\", \"document\", \"\")]"
   ]
  },
  {
   "cell_type": "code",
   "execution_count": 57,
   "metadata": {},
   "outputs": [],
   "source": [
    "x54 = [\"\"\"Open Any retail loan \"\"\", (\"open\", \"retail loan\", \"\")]"
   ]
  },
  {
   "cell_type": "code",
   "execution_count": 58,
   "metadata": {},
   "outputs": [],
   "source": [
    "x55 = [\"\"\"Click on \"Credit\" in left \"Status\" tab\"\"\", (\"click\", \"credit\", \"\"), (\"click\", \"status\", \"\")]"
   ]
  },
  {
   "cell_type": "code",
   "execution_count": 59,
   "metadata": {},
   "outputs": [],
   "source": [
    "x56 = [\"\"\"Select Credit provide from \"Credit provider\" dropdown\"\"\", (\"select\", \"credit provider\", \"\"), \n",
    " (\"select\", \"credit provide\", \"\")]"
   ]
  },
  {
   "cell_type": "code",
   "execution_count": 60,
   "metadata": {},
   "outputs": [],
   "source": [
    "x57 = [\"\"\"Select Radio button \"Joint\" Under Borrower Section.\"\"\", (\"select\", \"Borrower section\", \"\"), (\"select\", \"joint\", \"\")]"
   ]
  },
  {
   "cell_type": "code",
   "execution_count": 61,
   "metadata": {},
   "outputs": [],
   "source": [
    "x58= [\"\"\"Check \"Borrower acknowledges credit Request\" Check box\"\"\", (\"check\", \"Borrower acknowledges credit Request\", \"\")]"
   ]
  },
  {
   "cell_type": "code",
   "execution_count": 62,
   "metadata": {},
   "outputs": [],
   "source": [
    "x59 = [\"\"\"Deselect \"Auto Copy Liabilities\" check box\"\"\", (\"deselect\", \"Auto Copy Liabilities\", \"\")]"
   ]
  },
  {
   "cell_type": "code",
   "execution_count": 63,
   "metadata": {},
   "outputs": [],
   "source": [
    "x60 = [\"\"\"Click on \"Submit\" button\"\"\", (\"click\", \"submit\", \"\")]"
   ]
  },
  {
   "cell_type": "code",
   "execution_count": 64,
   "metadata": {},
   "outputs": [],
   "source": [
    "x61 = [\"\"\"Click on \"OK\" in confirmation popup\"\"\", (\"click\", \"ok\", \"\")]"
   ]
  },
  {
   "cell_type": "code",
   "execution_count": 65,
   "metadata": {},
   "outputs": [],
   "source": [
    "x62 = [\"\"\"Click on \"Refresh\" button Till status in \"Transaction History\" tab becomes \"Complete\"\"\", \n",
    " (\"click\", \"refresh\", \"\"), (\"status\", \"Transaction History\", \"complete\"), ]"
   ]
  },
  {
   "cell_type": "code",
   "execution_count": 66,
   "metadata": {},
   "outputs": [],
   "source": [
    "x63 = [\"\"\"Click on \"Loan Summary\" under \"1003\" \"\"\", (\"click\", \"loan summary\", \"\")]"
   ]
  },
  {
   "cell_type": "code",
   "execution_count": 67,
   "metadata": {},
   "outputs": [],
   "source": [
    "x64 = [\"\"\"Validate FICO Details are reflecting in Borrower details Tab\"\"\", (\"validate\", \"Borrower details tab\", \"\")]"
   ]
  },
  {
   "cell_type": "code",
   "execution_count": 68,
   "metadata": {},
   "outputs": [],
   "source": [
    "x65 = [\"\"\"Login in Oracle Fusion Finance Instance with Approver Login\"\"\", (\"login\", \"Oracle Fusion Finance Instance\", \"\")]"
   ]
  },
  {
   "cell_type": "code",
   "execution_count": 69,
   "metadata": {},
   "outputs": [],
   "source": [
    "x66 = [\"\"\"Navigate to General Accounting -> Journals\"\"\", \n",
    " (\"navigate\", \"General Accounting\", \"\"), (\"navigate\", \"journals\", \"\")]"
   ]
  },
  {
   "cell_type": "code",
   "execution_count": 70,
   "metadata": {},
   "outputs": [],
   "source": [
    "x67= [\"\"\"Click on Task icon and click on Manage Journal\"\"\", (\"click\", \"task icon\", \"\"), (\"click\", \"manage journal\", \"\")]"
   ]
  },
  {
   "cell_type": "code",
   "execution_count": 71,
   "metadata": {},
   "outputs": [],
   "source": [
    "x68 = [\"\"\"Enter the Reverse Journal created using Switch Dr and CR method\"\"\", (\"enter\", \"reverse journal\", \"\")]"
   ]
  },
  {
   "cell_type": "code",
   "execution_count": 72,
   "metadata": {},
   "outputs": [],
   "source": [
    "x69 = [\"\"\"Click on search\"\"\", (\"click\", \"search\", \"\")]"
   ]
  },
  {
   "cell_type": "code",
   "execution_count": 73,
   "metadata": {},
   "outputs": [],
   "source": [
    "x70 = [\"\"\"Click on Journal batch \"\"\", (\"click\", \"journal batch\", \"\")]"
   ]
  },
  {
   "cell_type": "code",
   "execution_count": 74,
   "metadata": {},
   "outputs": [],
   "source": [
    "x71 = [\"\"\"Click on Reject\"\"\", (\"click\", \"reject\", \"\")]"
   ]
  },
  {
   "cell_type": "code",
   "execution_count": 75,
   "metadata": {},
   "outputs": [],
   "source": [
    "x72 = [\"\"\"Validate the Approval Status\"\"\", (\"validate\", \"approval status\", \"\")]"
   ]
  },
  {
   "cell_type": "code",
   "execution_count": 76,
   "metadata": {},
   "outputs": [],
   "source": [
    "x73 = [\"\"\"Logout from the System\"\"\", (\"logout\", \"system\", \"\")]"
   ]
  },
  {
   "cell_type": "code",
   "execution_count": 77,
   "metadata": {},
   "outputs": [],
   "source": [
    "x74 = [\"\"\"Enter the Reverse Journal created using Change sign Method\"\"\", (\"enter\", \"Reverse Journal\", \"\")]"
   ]
  },
  {
   "cell_type": "code",
   "execution_count": 78,
   "metadata": {},
   "outputs": [],
   "source": [
    "x75 = [\"\"\"Click on Approve\"\"\", (\"click\", \"approve\", \"\")]"
   ]
  },
  {
   "cell_type": "code",
   "execution_count": 79,
   "metadata": {},
   "outputs": [],
   "source": [
    "x76 = [\"\"\"Login in Oracle Fusion Finance Instance with General Accounting Responsibility\"\"\", \n",
    " (\"login\", \"Oracle Fusion Finance Instance\", \"\")]"
   ]
  },
  {
   "cell_type": "code",
   "execution_count": 80,
   "metadata": {},
   "outputs": [],
   "source": [
    "x77 = [\"\"\"Click on Post\"\"\", (\"click\", \"post\", \"\")]"
   ]
  },
  {
   "cell_type": "code",
   "execution_count": 81,
   "metadata": {},
   "outputs": [],
   "source": [
    "x78 = [\"\"\"Validate the Posting Status\"\"\", (\"validate\", \"Posting status\", \"\")]"
   ]
  },
  {
   "cell_type": "code",
   "execution_count": 82,
   "metadata": {},
   "outputs": [],
   "source": [
    "x79 = [\"\"\"Enter the Journal\"\"\", (\"enter\", \"journal\", \"\")]"
   ]
  },
  {
   "cell_type": "code",
   "execution_count": 83,
   "metadata": {},
   "outputs": [],
   "source": [
    "x80 = [\"\"\"Click on Journal batch\"\"\", (\"click\", \"Journal batch\", \"\")]"
   ]
  },
  {
   "cell_type": "code",
   "execution_count": 84,
   "metadata": {},
   "outputs": [],
   "source": [
    "x81 = [\"\"\"Enter the below:\n",
    "Reversal Period\n",
    "Reversal Method\"\"\", (\"enter\", \"Reversal Period\", \"\"), (\"enter\", \"Reversal Method\", \"\")]"
   ]
  },
  {
   "cell_type": "code",
   "execution_count": 85,
   "metadata": {},
   "outputs": [],
   "source": [
    "x82 = [\"\"\"Click on OK\"\"\", (\"click\", \"OK\", \"\")]"
   ]
  },
  {
   "cell_type": "code",
   "execution_count": 86,
   "metadata": {},
   "outputs": [],
   "source": [
    "x83 = [\"\"\"Search for Journal by Entering Batch as Reverses (Original Journal Entry Name)\"\"\", \n",
    " (\"search\", \"journal\", \"\"), (\"Entering\", \"batch\", \"reverses\")]"
   ]
  },
  {
   "cell_type": "code",
   "execution_count": 87,
   "metadata": {},
   "outputs": [],
   "source": [
    "x84 = [\"\"\"Enter the Journal created in Test case no 1\"\"\", (\"enter\", \"journal\", \"\")]"
   ]
  },
  {
   "cell_type": "code",
   "execution_count": 88,
   "metadata": {},
   "outputs": [],
   "source": [
    "x85 = [\"\"\"Click on Task icon and click on Create Journal\"\"\", (\"click\", \"task icon\", \"\"), (\"click\", \"create journal\", \"\")]"
   ]
  },
  {
   "cell_type": "code",
   "execution_count": 89,
   "metadata": {},
   "outputs": [],
   "source": [
    "x86 = [\"\"\"Under Journal Batch Enter below fields :\n",
    "Journal Batch-\n",
    "Description-\n",
    "Balance-\n",
    "Accounting Period-\"\"\", (\"under\", \"journal batch\", \"\"), (\"enter\", \"journal batch\", \"\"), (\"enter\", \"description\", \"\"), \n",
    " (\"enter\", \"balance\", \"\"), (\"enter\", \"accounting period\", \"\")]"
   ]
  },
  {
   "cell_type": "code",
   "execution_count": 90,
   "metadata": {},
   "outputs": [],
   "source": [
    "x87 = [\"\"\"Under Journal Enter the below fields:\n",
    "Journal: \n",
    "Description:\n",
    "Ledger:\n",
    "Accounting Date:\n",
    "Category:\n",
    "Currency : Euro\"\"\", (\"under\", \"journal\", \"\"), (\"enter\", \"journal\", \"\"), (\"enter\", \"description\", \"\"), \n",
    " (\"enter\", \"ledger\", \"\"), (\"enter\", \"accounting date\", \"\"), (\"enter\", \"category\", \"\"), (\"enter\", \"currency\", \"\")]"
   ]
  },
  {
   "cell_type": "code",
   "execution_count": 91,
   "metadata": {},
   "outputs": [],
   "source": [
    "x88 = [\"\"\"Under Journal Lines Enter the below field:\n",
    "For Line 1: Search for Account combination and Click OK\n",
    "Enter Debit Amount\n",
    "\"\"\", (\"under\", \"journal lines\", \"\"), (\"search\", \"Account combination\", \"\"), (\"click\", \"ok\", \"\"), (\"enter\", \"debit amount\", \"\")]"
   ]
  },
  {
   "cell_type": "code",
   "execution_count": 92,
   "metadata": {},
   "outputs": [],
   "source": [
    "x89 = [\"\"\"Under Journal Lines Enter the below field:\n",
    "For Line 2: Search for Account combination and Click OK\n",
    "Enter Credit Amount\n",
    "\"\"\", (\"under\", \"journal lines\", \"\"), (\"search\", \"Account combination\", \"\"), (\"click\", \"ok\", \"\"), (\"enter\", \"credit amount\", \"\")]"
   ]
  },
  {
   "cell_type": "code",
   "execution_count": 93,
   "metadata": {},
   "outputs": [],
   "source": [
    "x90 = [\"\"\"Click on Complete\"\"\", (\"click\", \"complete\", \"\")]"
   ]
  },
  {
   "cell_type": "code",
   "execution_count": 94,
   "metadata": {},
   "outputs": [],
   "source": [
    "x91 = [\"\"\"Under Create Invoice Enter the below fields :\n",
    "Invoice Number: \n",
    "Business Unit-\n",
    "Supplier:\n",
    "Supplier Site:\n",
    "Payment Terms:\n",
    "Amount:\n",
    "Invoice Type: \"\"\", (\"under\", \"create invoice\", \"\"), (\"enter\", \"invoice number\", \"\"), (\"enter\", \"business unit\", \"\"), \n",
    " (\"enter\", \"supplier\", \"\"), (\"enter\", \"supplier site\", \"\"), (\"enter\", \"payment terms\", \"\"), (\"enter\", \"amount\", \"\"), \n",
    " (\"enter\", \"invoice type\", \"\")]"
   ]
  },
  {
   "cell_type": "code",
   "execution_count": 95,
   "metadata": {},
   "outputs": [],
   "source": [
    "x92 = [\"\"\"Click on Show more adcent to Invoice Header\"\"\", (\"click\", \"Show more adcent to Invoice\", \"\")]"
   ]
  },
  {
   "cell_type": "code",
   "execution_count": 96,
   "metadata": {},
   "outputs": [],
   "source": [
    "x93 = [\"\"\"Disable the checkbox to apply prepayment immediately\"\"\", (\"disable\", \"apply prepayment\", \"\")]"
   ]
  },
  {
   "cell_type": "code",
   "execution_count": 97,
   "metadata": {},
   "outputs": [],
   "source": [
    "x94 = [\"\"\"Go to Lines to match the Line Item.\n",
    "Enter the Amount in Line 1\"\"\", (\"go to\", \"lines\", \"\"), (\"enter\", \"amount\", \"\")]"
   ]
  },
  {
   "cell_type": "code",
   "execution_count": 98,
   "metadata": {},
   "outputs": [],
   "source": [
    "x95 = [\"\"\"Enter the Account Number in Distribution Combination field\"\"\", (\"enter\", \"Account Number\", \"\")]"
   ]
  },
  {
   "cell_type": "code",
   "execution_count": 99,
   "metadata": {},
   "outputs": [],
   "source": [
    "x96 = [\"\"\"Click on Distributions Tab above to see the Distribution of Amount to allocated Account\"\"\", \n",
    " (\"click\", \"Distributions Tab\", \"\")]"
   ]
  },
  {
   "cell_type": "code",
   "execution_count": 100,
   "metadata": {},
   "outputs": [],
   "source": [
    "x97 = [\"\"\"Click on Save and Close\"\"\", (\"click\", \"save\", \"\")]"
   ]
  },
  {
   "cell_type": "code",
   "execution_count": 101,
   "metadata": {},
   "outputs": [],
   "source": [
    "x98 = [\"\"\"Click on Save button to Save the Invoice\"\"\", (\"click\", \"save\", \"\")]"
   ]
  },
  {
   "cell_type": "code",
   "execution_count": 102,
   "metadata": {},
   "outputs": [],
   "source": [
    "x99 = [\"\"\"Validate and make the Payment for the Invoice\"\"\", (\"validate\", \"Payment\", \"\")]"
   ]
  },
  {
   "cell_type": "code",
   "execution_count": 103,
   "metadata": {},
   "outputs": [],
   "source": [
    "x100 = [\"\"\"Enter the Invoice number and click on Search \"\"\", (\"enter\", \"invoice number\", \"\"), (\"click\", \"search\", \"\")]"
   ]
  },
  {
   "cell_type": "code",
   "execution_count": 104,
   "metadata": {},
   "outputs": [],
   "source": [
    "x101 = [\"\"\"Check the Validation Status\"\"\", (\"check\", \"Validation Status\", \"\")]"
   ]
  },
  {
   "cell_type": "code",
   "execution_count": 105,
   "metadata": {},
   "outputs": [],
   "source": [
    "x102 = [\"\"\"Navigate to Payables -> Payments and select Manage Payments\"\"\", (\"navigate\", \"Payables\", \"\"), \n",
    " (\"navigate\", \"payments\", \"\"), (\"select\", \"manage payments\", \"\")]"
   ]
  },
  {
   "cell_type": "code",
   "execution_count": 106,
   "metadata": {},
   "outputs": [],
   "source": [
    "x103 = [\"\"\"Enter the payment date and click on search\"\"\", (\"enter\", \"payment date\", \"\"), (\"click\", \"search\", \"\")]"
   ]
  },
  {
   "cell_type": "code",
   "execution_count": 107,
   "metadata": {},
   "outputs": [],
   "source": [
    "x104 = [\"\"\"Select the Payment Line with Payment Number 5599 and Click on the Payment number\"\"\", \n",
    " (\"select\", \"payment line\", \"5599\"), (\"click\", \"Payment number\", \"\")]"
   ]
  },
  {
   "cell_type": "code",
   "execution_count": 108,
   "metadata": {},
   "outputs": [],
   "source": [
    "x105 = [\"\"\"Click 'Actions'  dropdown and select 'Void' \"\"\", (\"click\", \"action\", \"\"), (\"select\", \"void\", \"\")]"
   ]
  },
  {
   "cell_type": "code",
   "execution_count": 109,
   "metadata": {},
   "outputs": [],
   "source": [
    "x106 = [\"\"\"Select the reason: Cancel Invoice and click on OK\"\"\", (\"select\", \"Cancel Invoice\", \"\"), (\"click\", \"ok\", \"\")]"
   ]
  },
  {
   "cell_type": "code",
   "execution_count": 110,
   "metadata": {},
   "outputs": [],
   "source": [
    "x107 = [\"\"\"Select the Payment Line with Payment Number and Click on the Payment number\"\"\", \n",
    " (\"select\", \"payment line\", \"\"), (\"click\", \"Payment number\", \"\")]"
   ]
  },
  {
   "cell_type": "code",
   "execution_count": 111,
   "metadata": {},
   "outputs": [],
   "source": [
    "x108 = [\"\"\"Click 'Actions'  dropdown and select 'View Accounting'\"\"\", (\"click\", \"action\", \"\"), (\"select\", \"view accounting\", \"\")]"
   ]
  },
  {
   "cell_type": "code",
   "execution_count": 112,
   "metadata": {},
   "outputs": [],
   "source": [
    "x109 = [\"\"\"Select the Payment Line with Payment Number 5738 and Click on the Payment number\"\"\", \n",
    " (\"select\", \"payment line\", \"5738\"), (\"click\", \"Payment number\", \"\")]"
   ]
  },
  {
   "cell_type": "code",
   "execution_count": 113,
   "metadata": {},
   "outputs": [],
   "source": [
    "x110 = [\"\"\"Click on Ok to Void for No Reason\"\"\", (\"click\", \"ok\", \"\")]"
   ]
  },
  {
   "cell_type": "code",
   "execution_count": 114,
   "metadata": {},
   "outputs": [],
   "source": [
    "x111 = [\"\"\"Click 'Actions'  dropdown and select 'Account in Draft'\"\"\", (\"click\", \"actions\", \"\"), (\"select\", \"Account in Draft\", \"\")]"
   ]
  },
  {
   "cell_type": "code",
   "execution_count": 115,
   "metadata": {},
   "outputs": [],
   "source": [
    "x112 = [\"\"\"Click on View Accounting Entries\"\"\", (\"click\", \"view\", \"\")]"
   ]
  },
  {
   "cell_type": "code",
   "execution_count": 116,
   "metadata": {},
   "outputs": [],
   "source": [
    "x113 = [\"\"\"Click 'Actions'  dropdown and select 'Post to Ledger'\"\"\", (\"click\", \"actions\", \"\"), (\"select\", \"Post to Ledger\", \"\")]"
   ]
  },
  {
   "cell_type": "code",
   "execution_count": 117,
   "metadata": {},
   "outputs": [],
   "source": [
    "x114 = [\"\"\"Select the Payment Line with Payment Number 5738 and Click on the Payment number\"\"\", \n",
    " (\"select\", \"payment line\", \"5738\"), (\"click\", \"payment number\", \"\")]"
   ]
  },
  {
   "cell_type": "code",
   "execution_count": 118,
   "metadata": {},
   "outputs": [],
   "source": [
    "x115 = [\"\"\"Navigate to Payables -> Invoices\"\"\", (\"navigate\", \"payables\", \"\"), (\"navigate\", \"invoices\", \"\")]"
   ]
  },
  {
   "cell_type": "code",
   "execution_count": 119,
   "metadata": {},
   "outputs": [],
   "source": [
    "x116 = [\"\"\"Click on Task icon and click on Manage Invoices\"\"\", \n",
    " (\"click\", \"task icon\", \"\"), (\"click\", \"manage invoices\", \"\")]"
   ]
  },
  {
   "cell_type": "code",
   "execution_count": 120,
   "metadata": {},
   "outputs": [],
   "source": [
    "x117 = [\"\"\"Enter the Invoice number and click on Search\"\"\", (\"enter\", \"invoice number\", \"\"), (\"click\", \"search\", \"\")]"
   ]
  },
  {
   "cell_type": "code",
   "execution_count": 121,
   "metadata": {},
   "outputs": [],
   "source": [
    "x118 = [\"\"\"Click on Invoice Number\"\"\", (\"click\", \"invoice number\", \"\")]"
   ]
  },
  {
   "cell_type": "code",
   "execution_count": 122,
   "metadata": {},
   "outputs": [],
   "source": [
    "x119 = [\"\"\"Enter the Bank Account, Payment Process Profile and click on Submit\"\"\", (\"enter\", \"bank account\", \"\"), \n",
    "(\"enter\", \"Payment Process Profile\", \"\"), (\"click\", \"submit\", \"\")]"
   ]
  },
  {
   "cell_type": "code",
   "execution_count": 123,
   "metadata": {},
   "outputs": [],
   "source": [
    "x120 = [\"\"\"Using Test Prerequisite 1, Login to Batch system as a Approver. Record the User Id and User Name\"\"\", \n",
    " (\"login\", \"Batch system\", \"approver\"), (\"record\", \"user id\", \"\"), (\"record\", \"user name\", \"\")]"
   ]
  },
  {
   "cell_type": "code",
   "execution_count": 124,
   "metadata": {},
   "outputs": [],
   "source": [
    "x121 = [\"\"\"Create a Batch Request by providing the Project and Department values in New Request window.\n",
    "\n",
    "Capture and attach screen print: New Request Window prior to Submit, Request page\"\"\", \n",
    " (\"create\", \"batch request\", \"\"), (\"capture\", \"screen print\", \"\"), (\"attach\", \"screen print\", \"\")]"
   ]
  },
  {
   "cell_type": "code",
   "execution_count": 125,
   "metadata": {},
   "outputs": [],
   "source": [
    "x122 = [\"\"\"Verify Equipment tab displays the sectional links and buttons as:\n",
    "Sectional links:\n",
    "- Equipment Information (Highlighted)\n",
    "- Book Equipment in Calendar\n",
    "- Approver\n",
    "Buttons:\n",
    "- Cancel Request\n",
    "- Save\n",
    "- Submit\"\"\", (\"verify\", \"Equipment tab\", \"\"), (\"verify\", \"sectional links\", \"Equipment Information\"), \n",
    " (\"verify\", \"Sectional links\", \"Book Equipment in Calendar\"), (\"verify\", \"sectional links\", \"approver\"), \n",
    " (\"verify\", \"buttons\", \"cancel request\"), (\"verify\", \"buttons\", \"save\"), (\"verify\", \"buttons\", \"submit\")]"
   ]
  },
  {
   "cell_type": "code",
   "execution_count": 126,
   "metadata": {},
   "outputs": [],
   "source": [
    "x123 = [\"\"\"Verify the following is displayed for the Equipment Information section:\n",
    "- Label: Equipment Information, Required*\n",
    "- Site*: Single-select dropdown list\n",
    "- Legal Product Category*: Single-select: Drug, Cosmetic; Medical Device - disabled\n",
    "- Batch Type*: Single-select: Lab, Pilot, Other\n",
    "- GxP (checked), Non GxP: Radio buttons\n",
    "\"\"\", (\"verify\", \"Equipment Information\", \"\"), (\"verify\", \"label\", \"\"), \n",
    " (\"verify\", \"site\", \"\"), (\"verify\", \"Legal Product Category\", \"\"), \n",
    " (\"verify\", \"batch type\", \"\"), (\"verify\", \"GxP\", \"\"), (\"verify\", \"Non GxP\", \"\")]"
   ]
  },
  {
   "cell_type": "code",
   "execution_count": 127,
   "metadata": {},
   "outputs": [],
   "source": [
    "x124 = [\"\"\"Select the following for the Equipment Information section:\n",
    "- Site <any>\n",
    "- Legal Product Category - <any>\n",
    "- Batch Type - Lab\n",
    "- Non GxP Radio button\n",
    "- GxP Radio button\"\"\", (\"select\", \"Equipment Information\", \"\"), (\"select\", \"site\", \"\"),\n",
    "(\"select\", \"Legal Product Category\", \"\"), (\"select\", \"Batch Type\", \"lab\"),  (\"select\", \"Non GxP Radio button\", \"\"),\n",
    "(\"select\", \"GxP Radio button\", \"\")]"
   ]
  },
  {
   "cell_type": "code",
   "execution_count": 128,
   "metadata": {},
   "outputs": [],
   "source": [
    "x125 = [\"\"\"Verify for Lab Batch Type selection, the following are displayed:\n",
    "- Reason for this Batch*: displays: Select Reason for this Batch\n",
    "- Optional Equipment: displays: Select Optional Equipment\n",
    "\n",
    "Capture and attach screen print: Equipment Information section\"\"\", (\"verify\", \"selection\", \"Lab Batch Type\"), \n",
    " (\"verify\", \"Reason for this Batch\", \"\"), (\"verify\", \"Optional Equipment\", \"\"), (\"capture\", \"screen print\", \"\"), \n",
    " (\"attach\", \"screen print\", \"\")]"
   ]
  },
  {
   "cell_type": "code",
   "execution_count": 129,
   "metadata": {},
   "outputs": [],
   "source": [
    "x126 = [\"\"\"Select the Batch Type as Pilot and verify the following are displayed:\n",
    "- Equipment*: displays: Select Equipment\n",
    "- Optional Equipment: displays: Select Optional Equipment\n",
    "- Reason for this Batch: displays: Reason\n",
    "Capture and attach screen print: Equipment Information section\"\"\", (\"select\", \"batch type\", \"pilot\"), \n",
    " (\"verify\", \"Equipment\", \"\"), (\"verify\", \"optional equipment\", \"\"), (\"verify\", \"reason\", \"\"), \n",
    " (\"capture\", \"screen print\", \"\"), (\"attach\", \"screen print\", \"\")]"
   ]
  },
  {
   "cell_type": "code",
   "execution_count": 130,
   "metadata": {},
   "outputs": [],
   "source": [
    "x127 = [\"\"\"Select the Batch Type as Other and verify the following are displayed:\n",
    "- Equipment*: displays: Select Equipment\n",
    "- Reason for this Batch*: displays: Reason\n",
    "Capture and attach screen print: Equipment Information section\"\"\", (\"select\", \"batch type\", \"other\"), \n",
    " (\"verify\", \"Equipment\", \"\"), (\"verify\", \"Reason for this Batch\", \"\"), (\"capture\", \"screen print\", \"\"), \n",
    " (\"attach\", \"screen print\", \"\")]"
   ]
  },
  {
   "cell_type": "code",
   "execution_count": 131,
   "metadata": {},
   "outputs": [],
   "source": [
    "x128 = [\"\"\"Select Site/Legal Product Category/Batch Type as VDR/Cosmetic/Lab, verify the following:\n",
    "- Reason for this Batch: Multi-select dropdown with alphabetical order of values, select more than one value\n",
    "- Optional Equipment: Dropdown list, select any value.\n",
    "Capture and attach screen print: Equipment Information section\"\"\", \n",
    " (\"select\", \"Site\", \"VDR/Cosmetic/Lab\"), (\"select\", \"Legal Product Category\", \"VDR/Cosmetic/Lab\"),\n",
    " (\"select\", \"Batch Type\", \"VDR/Cosmetic/Lab\"), (\"verify\", \"Reason for this Batch\", \"\"), \n",
    " (\"verify\", \"Optional Equipment\", \"\"), (\"capture\", \"screen print\", \"\"),  (\"attach\", \"screen print\", \"\")]"
   ]
  },
  {
   "cell_type": "code",
   "execution_count": 132,
   "metadata": {},
   "outputs": [],
   "source": [
    "x129 = [\"\"\"Save the request.\n",
    "Click the Ok button.\n",
    "Navigate to Book Equipment in Calendar section and verify the following is displayed:\n",
    "- Label: Calendar for Lab\n",
    "- <Optional Equipment selected in step 9>\n",
    "- Calendar display for the current date <Month DD, YYYY> with Bench listing for VRD/Cosmetic/Lab per Test Prerequisite 3\n",
    "- Date field: populated with the current date and enabled to choose dates later than current date\n",
    "Capture and attach screen print: Message, Calendar for Lab section, Test Prerequisite 3\"\"\", \n",
    " (\"save\", \"request\", \"\"), (\"click\", \"OK button\", \"\"), (\"navigate\", \"book equipment\", \"\"), \n",
    " (\"verify\", \"label\", \"\"), (\"verify\", \"calendar\", \"current date\"), (\"verify\", \"bench listing\", \"VRD/Cosmetic/Lab\"), \n",
    " (\"verify\", \"date field\", \"current date\"), (\"capture\", \"screen print\", \"\"),  (\"attach\", \"screen print\", \"\")]"
   ]
  },
  {
   "cell_type": "code",
   "execution_count": 133,
   "metadata": {},
   "outputs": [],
   "source": [
    "x130 = [\"\"\"Using the Test Prerequisite 2, navigate to the Manufacturing Date for the Lab Batch Type request (Test Setup 1a) with status Reserved. \n",
    "Verify per Test Prerequisite 2 the following is displayed for the request \n",
    "- Requested By\n",
    "- Batch Request #\n",
    "- Formula #\n",
    "- Department\n",
    "- Project Name\n",
    "- Description\n",
    "- Word Order #\n",
    "- Reason\n",
    "- Filling quantities (Tubes, Bottles, Jars)\n",
    "Capture and attach screen print: Calendar for Lab section\n",
    "\"\"\", (\"navigate\", \"Manufacturing Date\", \"\"), (\"verify\", \"Requested By\", \"\"), (\"verify\", \"batch request\", \"\"), \n",
    " (\"verify\", \"formula\", \"\"), (\"verify\", \"department\", \"\"), (\"verify\", \"project name\", \"\"), (\"verify\", \"description\", \"\"),\n",
    "(\"verify\", \"word order\", \"\"), (\"verify\", \"reason\", \"\"), (\"verify\", \"filling quantities\", \"Tubes\"),\n",
    "(\"verify\", \"filling quantities\", \"Bottles\"), (\"verify\", \"filling quantities\", \"Jars\"),\n",
    "(\"capture\", \"screen print\", \"\"),  (\"attach\", \"screen print\", \"\")]"
   ]
  },
  {
   "cell_type": "code",
   "execution_count": 134,
   "metadata": {},
   "outputs": [],
   "source": [
    "variables = [f\"x{i}\" for i in range(1, 131)] "
   ]
  },
  {
   "cell_type": "code",
   "execution_count": 135,
   "metadata": {},
   "outputs": [],
   "source": [
    "data_list = [eval(x) for x in variables]"
   ]
  },
  {
   "cell_type": "code",
   "execution_count": 136,
   "metadata": {},
   "outputs": [],
   "source": [
    "def sanity(data_list):\n",
    "    for item in data_list:\n",
    "        text, triplets = item[0].lower(), item[1:] \n",
    "        try:\n",
    "            for action, label, data in triplets:\n",
    "                if action and action.lower() not in text: raise Exception(f\"{text} - {action}\") \n",
    "                if label and label.lower() not in text: raise Exception(f\"{text} - {label}\") \n",
    "                if data and data.lower() not in text: raise Exception(f\"{text} - {data}\") \n",
    "        except Exception as e:\n",
    "            raise e\n",
    "\n",
    "sanity(data_list)"
   ]
  },
  {
   "cell_type": "code",
   "execution_count": 137,
   "metadata": {},
   "outputs": [],
   "source": [
    "import pickle"
   ]
  },
  {
   "cell_type": "code",
   "execution_count": 138,
   "metadata": {},
   "outputs": [],
   "source": [
    "with open(\"data.pkl\", \"wb\") as pkl_file:\n",
    "    pickle.dump(data_list, pkl_file)"
   ]
  },
  {
   "cell_type": "code",
   "execution_count": null,
   "metadata": {},
   "outputs": [],
   "source": []
  }
 ],
 "metadata": {
  "kernelspec": {
   "display_name": "Python 3",
   "language": "python",
   "name": "python3"
  },
  "language_info": {
   "codemirror_mode": {
    "name": "ipython",
    "version": 3
   },
   "file_extension": ".py",
   "mimetype": "text/x-python",
   "name": "python",
   "nbconvert_exporter": "python",
   "pygments_lexer": "ipython3",
   "version": "3.7.9"
  }
 },
 "nbformat": 4,
 "nbformat_minor": 4
}
