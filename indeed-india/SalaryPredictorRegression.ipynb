{
 "cells": [
  {
   "cell_type": "code",
   "execution_count": 1,
   "metadata": {},
   "outputs": [],
   "source": [
    "%load_ext autoreload\n",
    "%autoreload 2"
   ]
  },
  {
   "cell_type": "code",
   "execution_count": 2,
   "metadata": {},
   "outputs": [],
   "source": [
    "import math\n",
    "import pandas as pd"
   ]
  },
  {
   "cell_type": "code",
   "execution_count": 3,
   "metadata": {},
   "outputs": [],
   "source": [
    "train_features_df = pd.read_csv(\"train_features.csv\")\n",
    "train_labels_df = pd.read_csv(\"train_salaries.csv\")\n",
    "test_features_df = pd.read_csv(\"test_features.csv\")"
   ]
  },
  {
   "cell_type": "code",
   "execution_count": 4,
   "metadata": {},
   "outputs": [
    {
     "data": {
      "text/plain": [
       "((1000000, 8), (1000000, 2), (1000000, 8))"
      ]
     },
     "execution_count": 4,
     "metadata": {},
     "output_type": "execute_result"
    }
   ],
   "source": [
    "train_features_df.shape, train_labels_df.shape, test_features_df.shape"
   ]
  },
  {
   "cell_type": "code",
   "execution_count": 5,
   "metadata": {},
   "outputs": [
    {
     "data": {
      "text/plain": [
       "(1000000, 9)"
      ]
     },
     "execution_count": 5,
     "metadata": {},
     "output_type": "execute_result"
    }
   ],
   "source": [
    "train_df = pd.merge(train_features_df, train_labels_df, on='jobId')\n",
    "\n",
    "train_df.shape"
   ]
  },
  {
   "cell_type": "code",
   "execution_count": 6,
   "metadata": {},
   "outputs": [
    {
     "data": {
      "text/plain": [
       "Index(['jobId', 'companyId', 'jobType', 'degree', 'major', 'industry',\n",
       "       'yearsExperience', 'milesFromMetropolis', 'salary'],\n",
       "      dtype='object')"
      ]
     },
     "execution_count": 6,
     "metadata": {},
     "output_type": "execute_result"
    }
   ],
   "source": [
    "train_df.columns"
   ]
  },
  {
   "cell_type": "code",
   "execution_count": 7,
   "metadata": {},
   "outputs": [
    {
     "data": {
      "text/plain": [
       "Index(['jobId', 'companyId', 'jobType', 'degree', 'major', 'industry',\n",
       "       'yearsExperience', 'milesFromMetropolis'],\n",
       "      dtype='object')"
      ]
     },
     "execution_count": 7,
     "metadata": {},
     "output_type": "execute_result"
    }
   ],
   "source": [
    "test_features_df.columns"
   ]
  },
  {
   "cell_type": "markdown",
   "metadata": {},
   "source": [
    "### Concatenate test and train dataframes to apply same operations/transformations on them"
   ]
  },
  {
   "cell_type": "code",
   "execution_count": 8,
   "metadata": {},
   "outputs": [],
   "source": [
    "train_df[\"Type\"] = \"TRAIN\"\n",
    "\n",
    "test_features_df[\"salary\"] = 0\n",
    "test_features_df[\"Type\"] = \"TEST\"\n",
    "\n",
    "assert train_df.shape == test_features_df.shape"
   ]
  },
  {
   "cell_type": "code",
   "execution_count": 9,
   "metadata": {},
   "outputs": [
    {
     "data": {
      "text/plain": [
       "(Index(['jobId', 'companyId', 'jobType', 'degree', 'major', 'industry',\n",
       "        'yearsExperience', 'milesFromMetropolis', 'salary', 'Type'],\n",
       "       dtype='object'),\n",
       " Index(['jobId', 'companyId', 'jobType', 'degree', 'major', 'industry',\n",
       "        'yearsExperience', 'milesFromMetropolis', 'salary', 'Type'],\n",
       "       dtype='object'))"
      ]
     },
     "execution_count": 9,
     "metadata": {},
     "output_type": "execute_result"
    }
   ],
   "source": [
    "train_df.columns, test_features_df.columns"
   ]
  },
  {
   "cell_type": "code",
   "execution_count": 10,
   "metadata": {},
   "outputs": [
    {
     "data": {
      "text/plain": [
       "(2000000, 10)"
      ]
     },
     "execution_count": 10,
     "metadata": {},
     "output_type": "execute_result"
    }
   ],
   "source": [
    "concat_df = pd.concat([train_df, test_features_df])\n",
    "\n",
    "concat_df.shape"
   ]
  },
  {
   "cell_type": "markdown",
   "metadata": {},
   "source": [
    "### Create one-hot vectors for categorical variables"
   ]
  },
  {
   "cell_type": "code",
   "execution_count": 11,
   "metadata": {},
   "outputs": [],
   "source": [
    "categorical_variables = ['jobType', 'degree', 'major', 'industry']\n",
    "\n",
    "expanded_df = pd.get_dummies(concat_df, columns=categorical_variables)"
   ]
  },
  {
   "cell_type": "code",
   "execution_count": 12,
   "metadata": {},
   "outputs": [
    {
     "data": {
      "text/html": [
       "<div>\n",
       "<style scoped>\n",
       "    .dataframe tbody tr th:only-of-type {\n",
       "        vertical-align: middle;\n",
       "    }\n",
       "\n",
       "    .dataframe tbody tr th {\n",
       "        vertical-align: top;\n",
       "    }\n",
       "\n",
       "    .dataframe thead th {\n",
       "        text-align: right;\n",
       "    }\n",
       "</style>\n",
       "<table border=\"1\" class=\"dataframe\">\n",
       "  <thead>\n",
       "    <tr style=\"text-align: right;\">\n",
       "      <th></th>\n",
       "      <th>jobId</th>\n",
       "      <th>companyId</th>\n",
       "      <th>yearsExperience</th>\n",
       "      <th>milesFromMetropolis</th>\n",
       "      <th>salary</th>\n",
       "      <th>Type</th>\n",
       "      <th>jobType_CEO</th>\n",
       "      <th>jobType_CFO</th>\n",
       "      <th>jobType_CTO</th>\n",
       "      <th>jobType_JANITOR</th>\n",
       "      <th>...</th>\n",
       "      <th>major_MATH</th>\n",
       "      <th>major_NONE</th>\n",
       "      <th>major_PHYSICS</th>\n",
       "      <th>industry_AUTO</th>\n",
       "      <th>industry_EDUCATION</th>\n",
       "      <th>industry_FINANCE</th>\n",
       "      <th>industry_HEALTH</th>\n",
       "      <th>industry_OIL</th>\n",
       "      <th>industry_SERVICE</th>\n",
       "      <th>industry_WEB</th>\n",
       "    </tr>\n",
       "  </thead>\n",
       "  <tbody>\n",
       "    <tr>\n",
       "      <th>0</th>\n",
       "      <td>JOB1362684407687</td>\n",
       "      <td>COMP37</td>\n",
       "      <td>10</td>\n",
       "      <td>83</td>\n",
       "      <td>130</td>\n",
       "      <td>TRAIN</td>\n",
       "      <td>0</td>\n",
       "      <td>1</td>\n",
       "      <td>0</td>\n",
       "      <td>0</td>\n",
       "      <td>...</td>\n",
       "      <td>1</td>\n",
       "      <td>0</td>\n",
       "      <td>0</td>\n",
       "      <td>0</td>\n",
       "      <td>0</td>\n",
       "      <td>0</td>\n",
       "      <td>1</td>\n",
       "      <td>0</td>\n",
       "      <td>0</td>\n",
       "      <td>0</td>\n",
       "    </tr>\n",
       "    <tr>\n",
       "      <th>1</th>\n",
       "      <td>JOB1362684407688</td>\n",
       "      <td>COMP19</td>\n",
       "      <td>3</td>\n",
       "      <td>73</td>\n",
       "      <td>101</td>\n",
       "      <td>TRAIN</td>\n",
       "      <td>1</td>\n",
       "      <td>0</td>\n",
       "      <td>0</td>\n",
       "      <td>0</td>\n",
       "      <td>...</td>\n",
       "      <td>0</td>\n",
       "      <td>1</td>\n",
       "      <td>0</td>\n",
       "      <td>0</td>\n",
       "      <td>0</td>\n",
       "      <td>0</td>\n",
       "      <td>0</td>\n",
       "      <td>0</td>\n",
       "      <td>0</td>\n",
       "      <td>1</td>\n",
       "    </tr>\n",
       "    <tr>\n",
       "      <th>2</th>\n",
       "      <td>JOB1362684407689</td>\n",
       "      <td>COMP52</td>\n",
       "      <td>10</td>\n",
       "      <td>38</td>\n",
       "      <td>137</td>\n",
       "      <td>TRAIN</td>\n",
       "      <td>0</td>\n",
       "      <td>0</td>\n",
       "      <td>0</td>\n",
       "      <td>0</td>\n",
       "      <td>...</td>\n",
       "      <td>0</td>\n",
       "      <td>0</td>\n",
       "      <td>1</td>\n",
       "      <td>0</td>\n",
       "      <td>0</td>\n",
       "      <td>0</td>\n",
       "      <td>1</td>\n",
       "      <td>0</td>\n",
       "      <td>0</td>\n",
       "      <td>0</td>\n",
       "    </tr>\n",
       "    <tr>\n",
       "      <th>3</th>\n",
       "      <td>JOB1362684407690</td>\n",
       "      <td>COMP38</td>\n",
       "      <td>8</td>\n",
       "      <td>17</td>\n",
       "      <td>142</td>\n",
       "      <td>TRAIN</td>\n",
       "      <td>0</td>\n",
       "      <td>0</td>\n",
       "      <td>0</td>\n",
       "      <td>0</td>\n",
       "      <td>...</td>\n",
       "      <td>0</td>\n",
       "      <td>0</td>\n",
       "      <td>0</td>\n",
       "      <td>1</td>\n",
       "      <td>0</td>\n",
       "      <td>0</td>\n",
       "      <td>0</td>\n",
       "      <td>0</td>\n",
       "      <td>0</td>\n",
       "      <td>0</td>\n",
       "    </tr>\n",
       "    <tr>\n",
       "      <th>4</th>\n",
       "      <td>JOB1362684407691</td>\n",
       "      <td>COMP7</td>\n",
       "      <td>8</td>\n",
       "      <td>16</td>\n",
       "      <td>163</td>\n",
       "      <td>TRAIN</td>\n",
       "      <td>0</td>\n",
       "      <td>0</td>\n",
       "      <td>0</td>\n",
       "      <td>0</td>\n",
       "      <td>...</td>\n",
       "      <td>0</td>\n",
       "      <td>0</td>\n",
       "      <td>1</td>\n",
       "      <td>0</td>\n",
       "      <td>0</td>\n",
       "      <td>1</td>\n",
       "      <td>0</td>\n",
       "      <td>0</td>\n",
       "      <td>0</td>\n",
       "      <td>0</td>\n",
       "    </tr>\n",
       "  </tbody>\n",
       "</table>\n",
       "<p>5 rows × 35 columns</p>\n",
       "</div>"
      ],
      "text/plain": [
       "              jobId companyId  yearsExperience  milesFromMetropolis  salary  \\\n",
       "0  JOB1362684407687    COMP37               10                   83     130   \n",
       "1  JOB1362684407688    COMP19                3                   73     101   \n",
       "2  JOB1362684407689    COMP52               10                   38     137   \n",
       "3  JOB1362684407690    COMP38                8                   17     142   \n",
       "4  JOB1362684407691     COMP7                8                   16     163   \n",
       "\n",
       "    Type  jobType_CEO  jobType_CFO  jobType_CTO  jobType_JANITOR  ...  \\\n",
       "0  TRAIN            0            1            0                0  ...   \n",
       "1  TRAIN            1            0            0                0  ...   \n",
       "2  TRAIN            0            0            0                0  ...   \n",
       "3  TRAIN            0            0            0                0  ...   \n",
       "4  TRAIN            0            0            0                0  ...   \n",
       "\n",
       "   major_MATH  major_NONE  major_PHYSICS  industry_AUTO  industry_EDUCATION  \\\n",
       "0           1           0              0              0                   0   \n",
       "1           0           1              0              0                   0   \n",
       "2           0           0              1              0                   0   \n",
       "3           0           0              0              1                   0   \n",
       "4           0           0              1              0                   0   \n",
       "\n",
       "   industry_FINANCE  industry_HEALTH  industry_OIL  industry_SERVICE  \\\n",
       "0                 0                1             0                 0   \n",
       "1                 0                0             0                 0   \n",
       "2                 0                1             0                 0   \n",
       "3                 0                0             0                 0   \n",
       "4                 1                0             0                 0   \n",
       "\n",
       "   industry_WEB  \n",
       "0             0  \n",
       "1             1  \n",
       "2             0  \n",
       "3             0  \n",
       "4             0  \n",
       "\n",
       "[5 rows x 35 columns]"
      ]
     },
     "execution_count": 12,
     "metadata": {},
     "output_type": "execute_result"
    }
   ],
   "source": [
    "expanded_df.head()"
   ]
  },
  {
   "cell_type": "code",
   "execution_count": 13,
   "metadata": {},
   "outputs": [
    {
     "data": {
      "text/plain": [
       "Index(['jobId', 'companyId', 'yearsExperience', 'milesFromMetropolis',\n",
       "       'salary', 'Type', 'jobType_CEO', 'jobType_CFO', 'jobType_CTO',\n",
       "       'jobType_JANITOR', 'jobType_JUNIOR', 'jobType_MANAGER',\n",
       "       'jobType_SENIOR', 'jobType_VICE_PRESIDENT', 'degree_BACHELORS',\n",
       "       'degree_DOCTORAL', 'degree_HIGH_SCHOOL', 'degree_MASTERS',\n",
       "       'degree_NONE', 'major_BIOLOGY', 'major_BUSINESS', 'major_CHEMISTRY',\n",
       "       'major_COMPSCI', 'major_ENGINEERING', 'major_LITERATURE', 'major_MATH',\n",
       "       'major_NONE', 'major_PHYSICS', 'industry_AUTO', 'industry_EDUCATION',\n",
       "       'industry_FINANCE', 'industry_HEALTH', 'industry_OIL',\n",
       "       'industry_SERVICE', 'industry_WEB'],\n",
       "      dtype='object')"
      ]
     },
     "execution_count": 13,
     "metadata": {},
     "output_type": "execute_result"
    }
   ],
   "source": [
    "expanded_df.columns"
   ]
  },
  {
   "cell_type": "code",
   "execution_count": 14,
   "metadata": {},
   "outputs": [],
   "source": [
    "transformed_train_df = expanded_df[expanded_df['Type'] == 'TRAIN']\n",
    "transformed_test_df = expanded_df[expanded_df['Type'] == 'TEST']\n",
    "\n",
    "assert transformed_train_df.shape == transformed_test_df.shape"
   ]
  },
  {
   "cell_type": "markdown",
   "metadata": {},
   "source": [
    "### Prepare data"
   ]
  },
  {
   "cell_type": "code",
   "execution_count": 15,
   "metadata": {},
   "outputs": [
    {
     "name": "stderr",
     "output_type": "stream",
     "text": [
      "C:\\ProgramData\\Anaconda3\\envs\\arcgis183\\lib\\site-packages\\pandas\\core\\frame.py:4312: SettingWithCopyWarning: \n",
      "A value is trying to be set on a copy of a slice from a DataFrame\n",
      "\n",
      "See the caveats in the documentation: https://pandas.pydata.org/pandas-docs/stable/user_guide/indexing.html#returning-a-view-versus-a-copy\n",
      "  errors=errors,\n"
     ]
    }
   ],
   "source": [
    "target = transformed_train_df['salary']\n",
    "\n",
    "transformed_train_df.drop(['jobId', 'companyId', 'salary', 'Type',], axis=1, inplace=True)\n",
    "\n",
    "transformed_test_df.drop(['jobId', 'companyId', 'salary', 'Type',], axis=1, inplace=True)"
   ]
  },
  {
   "cell_type": "code",
   "execution_count": 16,
   "metadata": {},
   "outputs": [
    {
     "data": {
      "text/plain": [
       "((1000000,), (1000000, 31))"
      ]
     },
     "execution_count": 16,
     "metadata": {},
     "output_type": "execute_result"
    }
   ],
   "source": [
    "target.shape, transformed_train_df.shape"
   ]
  },
  {
   "cell_type": "code",
   "execution_count": 17,
   "metadata": {},
   "outputs": [],
   "source": [
    "assert transformed_test_df.shape == transformed_train_df.shape"
   ]
  },
  {
   "cell_type": "markdown",
   "metadata": {},
   "source": [
    "# Model Fitting"
   ]
  },
  {
   "cell_type": "code",
   "execution_count": 18,
   "metadata": {},
   "outputs": [],
   "source": [
    "from sklearn.metrics import mean_squared_error\n",
    "from sklearn.model_selection import train_test_split"
   ]
  },
  {
   "cell_type": "code",
   "execution_count": 19,
   "metadata": {},
   "outputs": [],
   "source": [
    "X_train, X_test, y_train, y_test = train_test_split(transformed_train_df, target, test_size=0.10, random_state=42)"
   ]
  },
  {
   "cell_type": "code",
   "execution_count": 20,
   "metadata": {},
   "outputs": [
    {
     "data": {
      "text/plain": [
       "((900000, 31), (100000, 31))"
      ]
     },
     "execution_count": 20,
     "metadata": {},
     "output_type": "execute_result"
    }
   ],
   "source": [
    "X_train.shape, X_test.shape"
   ]
  },
  {
   "cell_type": "code",
   "execution_count": 21,
   "metadata": {},
   "outputs": [],
   "source": [
    "def rmse(model):\n",
    "    y_preds = model.predict(X_train)\n",
    "    return math.sqrt(mean_squared_error(y_train, y_preds))"
   ]
  },
  {
   "cell_type": "markdown",
   "metadata": {},
   "source": [
    "## skleran's liner models"
   ]
  },
  {
   "cell_type": "markdown",
   "metadata": {},
   "source": [
    "### Ridge Regression"
   ]
  },
  {
   "cell_type": "code",
   "execution_count": 22,
   "metadata": {},
   "outputs": [],
   "source": [
    "from sklearn.linear_model import Ridge"
   ]
  },
  {
   "cell_type": "code",
   "execution_count": 23,
   "metadata": {},
   "outputs": [
    {
     "data": {
      "text/plain": [
       "19.607111489864252"
      ]
     },
     "execution_count": 23,
     "metadata": {},
     "output_type": "execute_result"
    }
   ],
   "source": [
    "ridge_regression = Ridge()\n",
    "ridge_regression.fit(X_train, y_train)\n",
    "\n",
    "rmse(ridge_regression)"
   ]
  },
  {
   "cell_type": "markdown",
   "metadata": {},
   "source": [
    "### SGD Regresson"
   ]
  },
  {
   "cell_type": "code",
   "execution_count": 24,
   "metadata": {},
   "outputs": [],
   "source": [
    "from sklearn.linear_model import SGDRegressor"
   ]
  },
  {
   "cell_type": "code",
   "execution_count": 25,
   "metadata": {},
   "outputs": [
    {
     "data": {
      "text/plain": [
       "21.60568612433875"
      ]
     },
     "execution_count": 25,
     "metadata": {},
     "output_type": "execute_result"
    }
   ],
   "source": [
    "sgd_regression = SGDRegressor(alpha=0.01, l1_ratio=.8, random_state=42)\n",
    "sgd_regression.fit(X_train, y_train)\n",
    "\n",
    "rmse(sgd_regression)"
   ]
  },
  {
   "cell_type": "markdown",
   "metadata": {},
   "source": [
    "### ElasticNet Model"
   ]
  },
  {
   "cell_type": "code",
   "execution_count": 26,
   "metadata": {},
   "outputs": [],
   "source": [
    "from sklearn.linear_model import ElasticNet"
   ]
  },
  {
   "cell_type": "code",
   "execution_count": 27,
   "metadata": {},
   "outputs": [
    {
     "data": {
      "text/plain": [
       "19.6127677060746"
      ]
     },
     "execution_count": 27,
     "metadata": {},
     "output_type": "execute_result"
    }
   ],
   "source": [
    "elasticnet_model = ElasticNet(alpha=0.01, l1_ratio=.8, random_state=42)\n",
    "elasticnet_model.fit(X_train, y_train)\n",
    "\n",
    "rmse(elasticnet_model)"
   ]
  },
  {
   "cell_type": "markdown",
   "metadata": {},
   "source": [
    "## sklearn's ensemble methods"
   ]
  },
  {
   "cell_type": "markdown",
   "metadata": {},
   "source": [
    "### RandomForestRegressor"
   ]
  },
  {
   "cell_type": "code",
   "execution_count": 28,
   "metadata": {},
   "outputs": [],
   "source": [
    "from sklearn.ensemble import RandomForestRegressor"
   ]
  },
  {
   "cell_type": "code",
   "execution_count": 29,
   "metadata": {},
   "outputs": [
    {
     "data": {
      "text/plain": [
       "16.969353686785638"
      ]
     },
     "execution_count": 29,
     "metadata": {},
     "output_type": "execute_result"
    }
   ],
   "source": [
    "random_forest_model = RandomForestRegressor(n_estimators=100, min_samples_leaf=8, \n",
    "                                            n_jobs=-1, random_state=42)\n",
    "random_forest_model.fit(X_train, y_train)\n",
    "\n",
    "rmse(random_forest_model)"
   ]
  },
  {
   "cell_type": "markdown",
   "metadata": {},
   "source": [
    "### GradientBoostingRegressor"
   ]
  },
  {
   "cell_type": "code",
   "execution_count": 30,
   "metadata": {},
   "outputs": [],
   "source": [
    "from sklearn.ensemble import GradientBoostingRegressor"
   ]
  },
  {
   "cell_type": "code",
   "execution_count": 31,
   "metadata": {},
   "outputs": [
    {
     "data": {
      "text/plain": [
       "19.36082115058263"
      ]
     },
     "execution_count": 31,
     "metadata": {},
     "output_type": "execute_result"
    }
   ],
   "source": [
    "gradient_boosting_model = GradientBoostingRegressor(n_estimators=100, learning_rate=0.1, \n",
    "                                                    min_samples_leaf=8, random_state=42, alpha=0.01)\n",
    "\n",
    "gradient_boosting_model.fit(X_train, y_train)\n",
    "rmse(gradient_boosting_model)"
   ]
  },
  {
   "cell_type": "markdown",
   "metadata": {},
   "source": [
    "## XGBRegressor"
   ]
  },
  {
   "cell_type": "code",
   "execution_count": 32,
   "metadata": {},
   "outputs": [],
   "source": [
    "import xgboost as xgb"
   ]
  },
  {
   "cell_type": "code",
   "execution_count": 33,
   "metadata": {},
   "outputs": [
    {
     "data": {
      "text/plain": [
       "18.841844966259064"
      ]
     },
     "execution_count": 33,
     "metadata": {},
     "output_type": "execute_result"
    }
   ],
   "source": [
    "model_xgb = xgb.XGBRegressor(learning_rate=0.1, booster=\"gbtree\", n_estimators=100,\n",
    "                             reg_alpha=0.5, reg_lambda=0.6, nthread=-1)\n",
    "\n",
    "model_xgb.fit(X_train, y_train)\n",
    "rmse(model_xgb)"
   ]
  },
  {
   "cell_type": "markdown",
   "metadata": {},
   "source": [
    "## LGBMRegressor"
   ]
  },
  {
   "cell_type": "code",
   "execution_count": 34,
   "metadata": {},
   "outputs": [],
   "source": [
    "import lightgbm as lgb"
   ]
  },
  {
   "cell_type": "code",
   "execution_count": 35,
   "metadata": {},
   "outputs": [
    {
     "data": {
      "text/plain": [
       "18.88309735742432"
      ]
     },
     "execution_count": 35,
     "metadata": {},
     "output_type": "execute_result"
    }
   ],
   "source": [
    "lgbm_regressor = lgb.LGBMRegressor(objective='regression', learning_rate=0.1, n_estimators=100,\n",
    "                                  reg_alpha=0.5, reg_lambda=0.6, random_state=42)\n",
    "\n",
    "lgbm_regressor.fit(X_train, y_train)\n",
    "rmse(lgbm_regressor)"
   ]
  },
  {
   "cell_type": "markdown",
   "metadata": {},
   "source": [
    "# Computing RMSE on X_test"
   ]
  },
  {
   "cell_type": "code",
   "execution_count": 36,
   "metadata": {},
   "outputs": [],
   "source": [
    "ridge_predictions = ridge_regression.predict(X_test)\n",
    "sgd_predictions = sgd_regression.predict(X_test)\n",
    "enet_predictions = elasticnet_model.predict(X_test)\n",
    "random_forest_predictions = random_forest_model.predict(X_test)\n",
    "gboost_predictions = gradient_boosting_model.predict(X_test)\n",
    "xgb_predictions = model_xgb.predict(X_test)\n",
    "lgb_predictions = lgbm_regressor.predict(X_test)"
   ]
  },
  {
   "cell_type": "code",
   "execution_count": 37,
   "metadata": {},
   "outputs": [
    {
     "data": {
      "text/html": [
       "<div>\n",
       "<style scoped>\n",
       "    .dataframe tbody tr th:only-of-type {\n",
       "        vertical-align: middle;\n",
       "    }\n",
       "\n",
       "    .dataframe tbody tr th {\n",
       "        vertical-align: top;\n",
       "    }\n",
       "\n",
       "    .dataframe thead th {\n",
       "        text-align: right;\n",
       "    }\n",
       "</style>\n",
       "<table border=\"1\" class=\"dataframe\">\n",
       "  <thead>\n",
       "    <tr style=\"text-align: right;\">\n",
       "      <th></th>\n",
       "      <th>RidgeRegressor</th>\n",
       "      <th>SGDRegressor</th>\n",
       "      <th>ElasticNet</th>\n",
       "      <th>RandomForestRegressor</th>\n",
       "      <th>GradientBoostingRegressor</th>\n",
       "      <th>XGBRegressor</th>\n",
       "      <th>LGBMRegressor</th>\n",
       "    </tr>\n",
       "  </thead>\n",
       "  <tbody>\n",
       "    <tr>\n",
       "      <th>0</th>\n",
       "      <td>19.613244</td>\n",
       "      <td>21.595582</td>\n",
       "      <td>19.617787</td>\n",
       "      <td>19.342647</td>\n",
       "      <td>19.377137</td>\n",
       "      <td>18.916082</td>\n",
       "      <td>18.931015</td>\n",
       "    </tr>\n",
       "  </tbody>\n",
       "</table>\n",
       "</div>"
      ],
      "text/plain": [
       "   RidgeRegressor  SGDRegressor  ElasticNet  RandomForestRegressor  \\\n",
       "0       19.613244     21.595582   19.617787              19.342647   \n",
       "\n",
       "   GradientBoostingRegressor  XGBRegressor  LGBMRegressor  \n",
       "0                  19.377137     18.916082      18.931015  "
      ]
     },
     "execution_count": 37,
     "metadata": {},
     "output_type": "execute_result"
    }
   ],
   "source": [
    "def rmse_test(y_preds):\n",
    "    return math.sqrt(mean_squared_error(y_test, y_preds))\n",
    "\n",
    "models = [\"RidgeRegressor\", \"SGDRegressor\", \"ElasticNet\", \"RandomForestRegressor\", \n",
    "          \"GradientBoostingRegressor\", \"XGBRegressor\", \"LGBMRegressor\"]\n",
    "\n",
    "errors = [rmse_test(ridge_predictions), rmse_test(sgd_predictions), rmse_test(enet_predictions), \n",
    "          rmse_test(random_forest_predictions), rmse_test(gboost_predictions), rmse_test(xgb_predictions), \n",
    "          rmse_test(lgb_predictions)]\n",
    "\n",
    "test_errors = pd.DataFrame(errors, index=models)\n",
    "\n",
    "test_errors.transpose()"
   ]
  },
  {
   "cell_type": "markdown",
   "metadata": {},
   "source": [
    "# Predictions on X_test"
   ]
  },
  {
   "cell_type": "code",
   "execution_count": 38,
   "metadata": {},
   "outputs": [],
   "source": [
    "predict_df = pd.DataFrame({'Actual':y_test, 'RidgeRegressor':ridge_predictions, 'SGDRegressor': sgd_predictions, \n",
    "                           'ElasticNet': enet_predictions, \"RandomForestRegressor\": random_forest_predictions,\n",
    "                          'XGBRegressor': xgb_predictions, 'LGBMRegressor': lgb_predictions})"
   ]
  },
  {
   "cell_type": "code",
   "execution_count": 39,
   "metadata": {},
   "outputs": [
    {
     "data": {
      "text/html": [
       "<div>\n",
       "<style scoped>\n",
       "    .dataframe tbody tr th:only-of-type {\n",
       "        vertical-align: middle;\n",
       "    }\n",
       "\n",
       "    .dataframe tbody tr th {\n",
       "        vertical-align: top;\n",
       "    }\n",
       "\n",
       "    .dataframe thead th {\n",
       "        text-align: right;\n",
       "    }\n",
       "</style>\n",
       "<table border=\"1\" class=\"dataframe\">\n",
       "  <thead>\n",
       "    <tr style=\"text-align: right;\">\n",
       "      <th></th>\n",
       "      <th>Actual</th>\n",
       "      <th>RidgeRegressor</th>\n",
       "      <th>SGDRegressor</th>\n",
       "      <th>ElasticNet</th>\n",
       "      <th>RandomForestRegressor</th>\n",
       "      <th>XGBRegressor</th>\n",
       "      <th>LGBMRegressor</th>\n",
       "    </tr>\n",
       "  </thead>\n",
       "  <tbody>\n",
       "    <tr>\n",
       "      <th>987231</th>\n",
       "      <td>174</td>\n",
       "      <td>142.228033</td>\n",
       "      <td>135.351615</td>\n",
       "      <td>141.732690</td>\n",
       "      <td>133.538177</td>\n",
       "      <td>142.688477</td>\n",
       "      <td>139.682132</td>\n",
       "    </tr>\n",
       "    <tr>\n",
       "      <th>79954</th>\n",
       "      <td>58</td>\n",
       "      <td>72.680789</td>\n",
       "      <td>64.553539</td>\n",
       "      <td>73.299630</td>\n",
       "      <td>67.589279</td>\n",
       "      <td>71.585991</td>\n",
       "      <td>67.029861</td>\n",
       "    </tr>\n",
       "    <tr>\n",
       "      <th>567130</th>\n",
       "      <td>168</td>\n",
       "      <td>176.299473</td>\n",
       "      <td>168.984249</td>\n",
       "      <td>175.676802</td>\n",
       "      <td>185.614351</td>\n",
       "      <td>183.475952</td>\n",
       "      <td>183.257872</td>\n",
       "    </tr>\n",
       "    <tr>\n",
       "      <th>500891</th>\n",
       "      <td>85</td>\n",
       "      <td>110.078304</td>\n",
       "      <td>95.739447</td>\n",
       "      <td>109.460393</td>\n",
       "      <td>122.551715</td>\n",
       "      <td>116.186844</td>\n",
       "      <td>116.387901</td>\n",
       "    </tr>\n",
       "    <tr>\n",
       "      <th>55399</th>\n",
       "      <td>145</td>\n",
       "      <td>127.893560</td>\n",
       "      <td>117.632057</td>\n",
       "      <td>128.391945</td>\n",
       "      <td>125.585016</td>\n",
       "      <td>125.269218</td>\n",
       "      <td>121.301348</td>\n",
       "    </tr>\n",
       "    <tr>\n",
       "      <th>135049</th>\n",
       "      <td>135</td>\n",
       "      <td>125.345044</td>\n",
       "      <td>116.396483</td>\n",
       "      <td>125.248924</td>\n",
       "      <td>124.282562</td>\n",
       "      <td>126.116043</td>\n",
       "      <td>126.010782</td>\n",
       "    </tr>\n",
       "    <tr>\n",
       "      <th>733378</th>\n",
       "      <td>153</td>\n",
       "      <td>123.805822</td>\n",
       "      <td>115.255575</td>\n",
       "      <td>123.286253</td>\n",
       "      <td>123.510449</td>\n",
       "      <td>117.049805</td>\n",
       "      <td>124.201465</td>\n",
       "    </tr>\n",
       "    <tr>\n",
       "      <th>732057</th>\n",
       "      <td>82</td>\n",
       "      <td>78.012637</td>\n",
       "      <td>66.004862</td>\n",
       "      <td>77.824963</td>\n",
       "      <td>88.957241</td>\n",
       "      <td>88.854866</td>\n",
       "      <td>88.736054</td>\n",
       "    </tr>\n",
       "    <tr>\n",
       "      <th>51333</th>\n",
       "      <td>120</td>\n",
       "      <td>121.577242</td>\n",
       "      <td>112.323047</td>\n",
       "      <td>121.054454</td>\n",
       "      <td>117.691702</td>\n",
       "      <td>115.250198</td>\n",
       "      <td>116.326451</td>\n",
       "    </tr>\n",
       "    <tr>\n",
       "      <th>731479</th>\n",
       "      <td>147</td>\n",
       "      <td>134.433864</td>\n",
       "      <td>117.977260</td>\n",
       "      <td>133.784978</td>\n",
       "      <td>130.729104</td>\n",
       "      <td>128.224670</td>\n",
       "      <td>132.828906</td>\n",
       "    </tr>\n",
       "  </tbody>\n",
       "</table>\n",
       "</div>"
      ],
      "text/plain": [
       "        Actual  RidgeRegressor  SGDRegressor  ElasticNet  \\\n",
       "987231     174      142.228033    135.351615  141.732690   \n",
       "79954       58       72.680789     64.553539   73.299630   \n",
       "567130     168      176.299473    168.984249  175.676802   \n",
       "500891      85      110.078304     95.739447  109.460393   \n",
       "55399      145      127.893560    117.632057  128.391945   \n",
       "135049     135      125.345044    116.396483  125.248924   \n",
       "733378     153      123.805822    115.255575  123.286253   \n",
       "732057      82       78.012637     66.004862   77.824963   \n",
       "51333      120      121.577242    112.323047  121.054454   \n",
       "731479     147      134.433864    117.977260  133.784978   \n",
       "\n",
       "        RandomForestRegressor  XGBRegressor  LGBMRegressor  \n",
       "987231             133.538177    142.688477     139.682132  \n",
       "79954               67.589279     71.585991      67.029861  \n",
       "567130             185.614351    183.475952     183.257872  \n",
       "500891             122.551715    116.186844     116.387901  \n",
       "55399              125.585016    125.269218     121.301348  \n",
       "135049             124.282562    126.116043     126.010782  \n",
       "733378             123.510449    117.049805     124.201465  \n",
       "732057              88.957241     88.854866      88.736054  \n",
       "51333              117.691702    115.250198     116.326451  \n",
       "731479             130.729104    128.224670     132.828906  "
      ]
     },
     "execution_count": 39,
     "metadata": {},
     "output_type": "execute_result"
    }
   ],
   "source": [
    "predict_df.head(n=10)"
   ]
  },
  {
   "cell_type": "code",
   "execution_count": null,
   "metadata": {},
   "outputs": [],
   "source": []
  }
 ],
 "metadata": {
  "kernelspec": {
   "display_name": "Python 3",
   "language": "python",
   "name": "python3"
  },
  "language_info": {
   "codemirror_mode": {
    "name": "ipython",
    "version": 3
   },
   "file_extension": ".py",
   "mimetype": "text/x-python",
   "name": "python",
   "nbconvert_exporter": "python",
   "pygments_lexer": "ipython3",
   "version": "3.7.9"
  }
 },
 "nbformat": 4,
 "nbformat_minor": 4
}
