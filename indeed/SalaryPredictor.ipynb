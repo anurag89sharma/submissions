{
 "cells": [
  {
   "cell_type": "code",
   "execution_count": 1,
   "metadata": {},
   "outputs": [],
   "source": [
    "import numpy as np\n",
    "import pandas as pd\n",
    "import matplotlib.pyplot as plt\n",
    "import seaborn as sns\n",
    "color = sns.color_palette()\n",
    "sns.set_style('darkgrid')\n",
    "%matplotlib inline"
   ]
  },
  {
   "cell_type": "code",
   "execution_count": 2,
   "metadata": {},
   "outputs": [],
   "source": [
    "train_features = 'train_features.csv'\n",
    "train_labels = 'train_salaries.csv'\n",
    "test_features = 'test_features.csv'"
   ]
  },
  {
   "cell_type": "code",
   "execution_count": 3,
   "metadata": {},
   "outputs": [],
   "source": [
    "features_df = pd.read_csv(train_features)\n",
    "labels_df = pd.read_csv(train_labels)\n",
    "test_df = pd.read_csv(test_features)"
   ]
  },
  {
   "cell_type": "code",
   "execution_count": 4,
   "metadata": {},
   "outputs": [
    {
     "name": "stdout",
     "output_type": "stream",
     "text": [
      "Train Features shape - (1000000, 8)\n",
      "Train Labels shape - (1000000, 2)\n",
      "Test Features shape - (1000000, 8)\n"
     ]
    }
   ],
   "source": [
    "print(\"Train Features shape - {}\".format(features_df.shape))\n",
    "print(\"Train Labels shape - {}\".format(labels_df.shape))\n",
    "print(\"Test Features shape - {}\".format(test_df.shape))"
   ]
  },
  {
   "cell_type": "code",
   "execution_count": 5,
   "metadata": {},
   "outputs": [],
   "source": [
    "train_df = pd.merge(features_df, labels_df, on='jobId', how='outer')"
   ]
  },
  {
   "cell_type": "code",
   "execution_count": 6,
   "metadata": {},
   "outputs": [
    {
     "name": "stdout",
     "output_type": "stream",
     "text": [
      "Train Features shape - (1000000, 9)\n"
     ]
    }
   ],
   "source": [
    "print(\"Train Features shape - {}\".format(train_df.shape))"
   ]
  },
  {
   "cell_type": "code",
   "execution_count": 7,
   "metadata": {},
   "outputs": [
    {
     "data": {
      "text/html": [
       "<div>\n",
       "<style scoped>\n",
       "    .dataframe tbody tr th:only-of-type {\n",
       "        vertical-align: middle;\n",
       "    }\n",
       "\n",
       "    .dataframe tbody tr th {\n",
       "        vertical-align: top;\n",
       "    }\n",
       "\n",
       "    .dataframe thead th {\n",
       "        text-align: right;\n",
       "    }\n",
       "</style>\n",
       "<table border=\"1\" class=\"dataframe\">\n",
       "  <thead>\n",
       "    <tr style=\"text-align: right;\">\n",
       "      <th></th>\n",
       "      <th>jobId</th>\n",
       "      <th>companyId</th>\n",
       "      <th>jobType</th>\n",
       "      <th>degree</th>\n",
       "      <th>major</th>\n",
       "      <th>industry</th>\n",
       "      <th>yearsExperience</th>\n",
       "      <th>milesFromMetropolis</th>\n",
       "      <th>salary</th>\n",
       "    </tr>\n",
       "  </thead>\n",
       "  <tbody>\n",
       "    <tr>\n",
       "      <th>0</th>\n",
       "      <td>JOB1362684407687</td>\n",
       "      <td>COMP37</td>\n",
       "      <td>CFO</td>\n",
       "      <td>MASTERS</td>\n",
       "      <td>MATH</td>\n",
       "      <td>HEALTH</td>\n",
       "      <td>10</td>\n",
       "      <td>83</td>\n",
       "      <td>130</td>\n",
       "    </tr>\n",
       "    <tr>\n",
       "      <th>1</th>\n",
       "      <td>JOB1362684407688</td>\n",
       "      <td>COMP19</td>\n",
       "      <td>CEO</td>\n",
       "      <td>HIGH_SCHOOL</td>\n",
       "      <td>NONE</td>\n",
       "      <td>WEB</td>\n",
       "      <td>3</td>\n",
       "      <td>73</td>\n",
       "      <td>101</td>\n",
       "    </tr>\n",
       "    <tr>\n",
       "      <th>2</th>\n",
       "      <td>JOB1362684407689</td>\n",
       "      <td>COMP52</td>\n",
       "      <td>VICE_PRESIDENT</td>\n",
       "      <td>DOCTORAL</td>\n",
       "      <td>PHYSICS</td>\n",
       "      <td>HEALTH</td>\n",
       "      <td>10</td>\n",
       "      <td>38</td>\n",
       "      <td>137</td>\n",
       "    </tr>\n",
       "    <tr>\n",
       "      <th>3</th>\n",
       "      <td>JOB1362684407690</td>\n",
       "      <td>COMP38</td>\n",
       "      <td>MANAGER</td>\n",
       "      <td>DOCTORAL</td>\n",
       "      <td>CHEMISTRY</td>\n",
       "      <td>AUTO</td>\n",
       "      <td>8</td>\n",
       "      <td>17</td>\n",
       "      <td>142</td>\n",
       "    </tr>\n",
       "    <tr>\n",
       "      <th>4</th>\n",
       "      <td>JOB1362684407691</td>\n",
       "      <td>COMP7</td>\n",
       "      <td>VICE_PRESIDENT</td>\n",
       "      <td>BACHELORS</td>\n",
       "      <td>PHYSICS</td>\n",
       "      <td>FINANCE</td>\n",
       "      <td>8</td>\n",
       "      <td>16</td>\n",
       "      <td>163</td>\n",
       "    </tr>\n",
       "  </tbody>\n",
       "</table>\n",
       "</div>"
      ],
      "text/plain": [
       "              jobId companyId         jobType       degree      major  \\\n",
       "0  JOB1362684407687    COMP37             CFO      MASTERS       MATH   \n",
       "1  JOB1362684407688    COMP19             CEO  HIGH_SCHOOL       NONE   \n",
       "2  JOB1362684407689    COMP52  VICE_PRESIDENT     DOCTORAL    PHYSICS   \n",
       "3  JOB1362684407690    COMP38         MANAGER     DOCTORAL  CHEMISTRY   \n",
       "4  JOB1362684407691     COMP7  VICE_PRESIDENT    BACHELORS    PHYSICS   \n",
       "\n",
       "  industry  yearsExperience  milesFromMetropolis  salary  \n",
       "0   HEALTH               10                   83     130  \n",
       "1      WEB                3                   73     101  \n",
       "2   HEALTH               10                   38     137  \n",
       "3     AUTO                8                   17     142  \n",
       "4  FINANCE                8                   16     163  "
      ]
     },
     "execution_count": 7,
     "metadata": {},
     "output_type": "execute_result"
    }
   ],
   "source": [
    "train_df.head()"
   ]
  },
  {
   "cell_type": "code",
   "execution_count": 36,
   "metadata": {},
   "outputs": [
    {
     "data": {
      "text/html": [
       "<div>\n",
       "<style scoped>\n",
       "    .dataframe tbody tr th:only-of-type {\n",
       "        vertical-align: middle;\n",
       "    }\n",
       "\n",
       "    .dataframe tbody tr th {\n",
       "        vertical-align: top;\n",
       "    }\n",
       "\n",
       "    .dataframe thead th {\n",
       "        text-align: right;\n",
       "    }\n",
       "</style>\n",
       "<table border=\"1\" class=\"dataframe\">\n",
       "  <thead>\n",
       "    <tr style=\"text-align: right;\">\n",
       "      <th></th>\n",
       "      <th>yearsExperience</th>\n",
       "      <th>milesFromMetropolis</th>\n",
       "      <th>salary</th>\n",
       "    </tr>\n",
       "  </thead>\n",
       "  <tbody>\n",
       "    <tr>\n",
       "      <th>count</th>\n",
       "      <td>1000000.000000</td>\n",
       "      <td>1000000.000000</td>\n",
       "      <td>1000000.000000</td>\n",
       "    </tr>\n",
       "    <tr>\n",
       "      <th>mean</th>\n",
       "      <td>11.992386</td>\n",
       "      <td>49.529260</td>\n",
       "      <td>116.061818</td>\n",
       "    </tr>\n",
       "    <tr>\n",
       "      <th>std</th>\n",
       "      <td>7.212391</td>\n",
       "      <td>28.877733</td>\n",
       "      <td>38.717936</td>\n",
       "    </tr>\n",
       "    <tr>\n",
       "      <th>min</th>\n",
       "      <td>0.000000</td>\n",
       "      <td>0.000000</td>\n",
       "      <td>0.000000</td>\n",
       "    </tr>\n",
       "    <tr>\n",
       "      <th>25%</th>\n",
       "      <td>6.000000</td>\n",
       "      <td>25.000000</td>\n",
       "      <td>88.000000</td>\n",
       "    </tr>\n",
       "    <tr>\n",
       "      <th>50%</th>\n",
       "      <td>12.000000</td>\n",
       "      <td>50.000000</td>\n",
       "      <td>114.000000</td>\n",
       "    </tr>\n",
       "    <tr>\n",
       "      <th>75%</th>\n",
       "      <td>18.000000</td>\n",
       "      <td>75.000000</td>\n",
       "      <td>141.000000</td>\n",
       "    </tr>\n",
       "    <tr>\n",
       "      <th>max</th>\n",
       "      <td>24.000000</td>\n",
       "      <td>99.000000</td>\n",
       "      <td>301.000000</td>\n",
       "    </tr>\n",
       "  </tbody>\n",
       "</table>\n",
       "</div>"
      ],
      "text/plain": [
       "       yearsExperience  milesFromMetropolis          salary\n",
       "count   1000000.000000       1000000.000000  1000000.000000\n",
       "mean         11.992386            49.529260      116.061818\n",
       "std           7.212391            28.877733       38.717936\n",
       "min           0.000000             0.000000        0.000000\n",
       "25%           6.000000            25.000000       88.000000\n",
       "50%          12.000000            50.000000      114.000000\n",
       "75%          18.000000            75.000000      141.000000\n",
       "max          24.000000            99.000000      301.000000"
      ]
     },
     "execution_count": 36,
     "metadata": {},
     "output_type": "execute_result"
    }
   ],
   "source": [
    "train_df.describe()"
   ]
  },
  {
   "cell_type": "code",
   "execution_count": 39,
   "metadata": {},
   "outputs": [
    {
     "name": "stdout",
     "output_type": "stream",
     "text": [
      "               salary\n",
      "                  avg\n",
      "companyId            \n",
      "COMP0      115.963615\n",
      "COMP1      116.048609\n",
      "COMP10     116.019800\n",
      "COMP11     116.113029\n",
      "COMP12     116.086485\n",
      "           salary\n",
      "              avg\n",
      "count   63.000000\n",
      "mean   116.061686\n",
      "std      0.331259\n",
      "min    115.342355\n",
      "25%    115.871310\n",
      "50%    116.086485\n",
      "75%    116.274704\n",
      "max    116.783171\n"
     ]
    },
    {
     "name": "stderr",
     "output_type": "stream",
     "text": [
      "/Users/anuragsharma/.virtualenvs/data-science/lib/python3.6/site-packages/pandas/core/groupby/generic.py:1315: FutureWarning: using a dict with renaming is deprecated and will be removed in a future version\n",
      "  return super(DataFrameGroupBy, self).aggregate(arg, *args, **kwargs)\n"
     ]
    }
   ],
   "source": [
    "df1 = train_df.groupby(['companyId']).agg({'salary': {'avg': np.mean}})\n",
    "print(df1.head())\n",
    "print(df1.describe())"
   ]
  },
  {
   "cell_type": "code",
   "execution_count": 45,
   "metadata": {},
   "outputs": [
    {
     "data": {
      "text/plain": [
       "108    10467\n",
       "114    10407\n",
       "107    10371\n",
       "112    10361\n",
       "104    10297\n",
       "103    10285\n",
       "110    10270\n",
       "109    10243\n",
       "115    10227\n",
       "105    10223\n",
       "106    10204\n",
       "113    10182\n",
       "111    10179\n",
       "116    10169\n",
       "102    10158\n",
       "101    10151\n",
       "119    10080\n",
       "117    10041\n",
       "118     9968\n",
       "99      9946\n",
       "100     9937\n",
       "98      9898\n",
       "120     9835\n",
       "121     9800\n",
       "97      9773\n",
       "122     9748\n",
       "123     9723\n",
       "124     9685\n",
       "125     9594\n",
       "95      9567\n",
       "       ...  \n",
       "271       16\n",
       "273       14\n",
       "275       11\n",
       "19        10\n",
       "278       10\n",
       "272       10\n",
       "274       10\n",
       "282        6\n",
       "0          5\n",
       "276        5\n",
       "283        5\n",
       "269        5\n",
       "277        4\n",
       "279        4\n",
       "280        4\n",
       "285        4\n",
       "286        3\n",
       "281        3\n",
       "284        3\n",
       "18         3\n",
       "289        3\n",
       "292        2\n",
       "294        2\n",
       "293        2\n",
       "301        2\n",
       "288        2\n",
       "287        2\n",
       "290        1\n",
       "17         1\n",
       "298        1\n",
       "Name: salary, Length: 280, dtype: int64"
      ]
     },
     "execution_count": 45,
     "metadata": {},
     "output_type": "execute_result"
    }
   ],
   "source": [
    "train_df['salary'].value_counts()"
   ]
  },
  {
   "cell_type": "code",
   "execution_count": 8,
   "metadata": {},
   "outputs": [
    {
     "data": {
      "image/png": "[encoded data removed]",
      "text/plain": [
       "<Figure size 1440x720 with 4 Axes>"
      ]
     },
     "metadata": {
      "needs_background": "light"
     },
     "output_type": "display_data"
    }
   ],
   "source": [
    "train_df.hist(bins=25, figsize=(20, 10))\n",
    "plt.show()"
   ]
  },
  {
   "cell_type": "code",
   "execution_count": 9,
   "metadata": {},
   "outputs": [
    {
     "data": {
      "text/plain": [
       "Text(0.5, 1.0, 'Comapny Vs Salary Graph')"
      ]
     },
     "execution_count": 9,
     "metadata": {},
     "output_type": "execute_result"
    },
    {
     "data": {
      "image/png": "[encoded data removed]",
      "text/plain": [
       "<Figure size 1440x1080 with 1 Axes>"
      ]
     },
     "metadata": {
      "needs_background": "light"
     },
     "output_type": "display_data"
    }
   ],
   "source": [
    "f, ax = plt.subplots(figsize=(20, 15))\n",
    "plt.xticks(rotation='90')\n",
    "sns.barplot(x=train_df.companyId, y=train_df.salary)\n",
    "plt.xlabel('companyId', fontsize=15)\n",
    "plt.ylabel('salary', fontsize=15)\n",
    "plt.title('Comapny Vs Salary Graph', fontsize=15)"
   ]
  },
  {
   "cell_type": "code",
   "execution_count": 10,
   "metadata": {},
   "outputs": [
    {
     "data": {
      "text/plain": [
       "Text(0.5, 1.0, 'JobType Vs Salary Graph')"
      ]
     },
     "execution_count": 10,
     "metadata": {},
     "output_type": "execute_result"
    },
    {
     "data": {
      "image/png": "[encoded data removed]",
      "text/plain": [
       "<Figure size 1440x1080 with 1 Axes>"
      ]
     },
     "metadata": {
      "needs_background": "light"
     },
     "output_type": "display_data"
    }
   ],
   "source": [
    "f, ax = plt.subplots(figsize=(20, 15))\n",
    "plt.xticks(rotation='90')\n",
    "sns.barplot(x=train_df.jobType, y=train_df.salary)\n",
    "plt.xlabel('jobType', fontsize=15)\n",
    "plt.ylabel('salary', fontsize=15)\n",
    "plt.title('JobType Vs Salary Graph', fontsize=15)"
   ]
  },
  {
   "cell_type": "code",
   "execution_count": 11,
   "metadata": {},
   "outputs": [
    {
     "data": {
      "text/plain": [
       "Text(0.5, 1.0, 'Degree Vs Salary Graph')"
      ]
     },
     "execution_count": 11,
     "metadata": {},
     "output_type": "execute_result"
    },
    {
     "data": {
      "image/png": "[encoded data removed]",
      "text/plain": [
       "<Figure size 1440x1080 with 1 Axes>"
      ]
     },
     "metadata": {
      "needs_background": "light"
     },
     "output_type": "display_data"
    }
   ],
   "source": [
    "f, ax = plt.subplots(figsize=(20, 15))\n",
    "plt.xticks(rotation='90')\n",
    "sns.barplot(x=train_df.degree, y=train_df.salary)\n",
    "plt.xlabel('degree', fontsize=15)\n",
    "plt.ylabel('salary', fontsize=15)\n",
    "plt.title('Degree Vs Salary Graph', fontsize=15)"
   ]
  },
  {
   "cell_type": "code",
   "execution_count": 12,
   "metadata": {},
   "outputs": [
    {
     "data": {
      "text/plain": [
       "Text(0.5, 1.0, 'Major Vs Salary Graph')"
      ]
     },
     "execution_count": 12,
     "metadata": {},
     "output_type": "execute_result"
    },
    {
     "data": {
      "image/png": "[encoded data removed]",
      "text/plain": [
       "<Figure size 1440x1080 with 1 Axes>"
      ]
     },
     "metadata": {
      "needs_background": "light"
     },
     "output_type": "display_data"
    }
   ],
   "source": [
    "f, ax = plt.subplots(figsize=(20, 15))\n",
    "plt.xticks(rotation='90')\n",
    "sns.barplot(x=train_df.major, y=train_df.salary)\n",
    "plt.xlabel('major', fontsize=15)\n",
    "plt.ylabel('salary', fontsize=15)\n",
    "plt.title('Major Vs Salary Graph', fontsize=15)"
   ]
  },
  {
   "cell_type": "code",
   "execution_count": 17,
   "metadata": {},
   "outputs": [
    {
     "data": {
      "text/plain": [
       "Text(0.5, 1.0, 'Industry Vs Salary Graph')"
      ]
     },
     "execution_count": 17,
     "metadata": {},
     "output_type": "execute_result"
    },
    {
     "data": {
      "image/png": "[encoded data removed]",
      "text/plain": [
       "<Figure size 1440x1080 with 1 Axes>"
      ]
     },
     "metadata": {
      "needs_background": "light"
     },
     "output_type": "display_data"
    }
   ],
   "source": [
    "f, ax = plt.subplots(figsize=(20, 15))\n",
    "plt.xticks(rotation='90')\n",
    "sns.barplot(x=train_df.industry, y=train_df.salary)\n",
    "plt.xlabel('Industry', fontsize=15)\n",
    "plt.ylabel('salary', fontsize=15)\n",
    "plt.title('Industry Vs Salary Graph', fontsize=15)"
   ]
  },
  {
   "cell_type": "code",
   "execution_count": 18,
   "metadata": {},
   "outputs": [
    {
     "data": {
      "text/plain": [
       "Text(0.5, 1.0, 'Experience Vs Salary Graph')"
      ]
     },
     "execution_count": 18,
     "metadata": {},
     "output_type": "execute_result"
    },
    {
     "data": {
      "image/png": "[encoded data removed]",
      "text/plain": [
       "<Figure size 1440x1080 with 1 Axes>"
      ]
     },
     "metadata": {
      "needs_background": "light"
     },
     "output_type": "display_data"
    }
   ],
   "source": [
    "f, ax = plt.subplots(figsize=(20, 15))\n",
    "plt.xticks(rotation='90')\n",
    "sns.barplot(x=train_df.yearsExperience, y=train_df.salary)\n",
    "plt.xlabel('yearsOfExperince', fontsize=15)\n",
    "plt.ylabel('salary', fontsize=15)\n",
    "plt.title('Experience Vs Salary Graph', fontsize=15)"
   ]
  },
  {
   "cell_type": "code",
   "execution_count": 19,
   "metadata": {},
   "outputs": [
    {
     "data": {
      "text/plain": [
       "Text(0.5, 1.0, 'MilesFromMetropolis Vs Salary Graph')"
      ]
     },
     "execution_count": 19,
     "metadata": {},
     "output_type": "execute_result"
    },
    {
     "data": {
      "image/png": "[encoded data removed]",
      "text/plain": [
       "<Figure size 1440x1440 with 1 Axes>"
      ]
     },
     "metadata": {
      "needs_background": "light"
     },
     "output_type": "display_data"
    }
   ],
   "source": [
    "f, ax = plt.subplots(figsize=(20, 20))\n",
    "plt.xticks(rotation='90')\n",
    "sns.barplot(x=train_df.milesFromMetropolis, y=train_df.salary)\n",
    "plt.xlabel('milesFromMetropolis', fontsize=15)\n",
    "plt.ylabel('salary', fontsize=15)\n",
    "plt.title('MilesFromMetropolis Vs Salary Graph', fontsize=15)"
   ]
  },
  {
   "cell_type": "code",
   "execution_count": 10,
   "metadata": {},
   "outputs": [
    {
     "data": {
      "text/plain": [
       "Index(['jobId', 'companyId', 'jobType', 'degree', 'major', 'industry',\n",
       "       'yearsExperience', 'milesFromMetropolis', 'salary'],\n",
       "      dtype='object')"
      ]
     },
     "execution_count": 10,
     "metadata": {},
     "output_type": "execute_result"
    }
   ],
   "source": [
    "train_df.columns"
   ]
  },
  {
   "cell_type": "code",
   "execution_count": 11,
   "metadata": {},
   "outputs": [],
   "source": [
    "new_train_df = pd.get_dummies(train_df, columns=['jobType', 'degree', 'major', 'industry'])\n",
    "new_train_df.drop(['jobId', 'companyId'], axis=1, inplace=True)"
   ]
  },
  {
   "cell_type": "code",
   "execution_count": 15,
   "metadata": {},
   "outputs": [
    {
     "data": {
      "text/plain": [
       "Index(['yearsExperience', 'milesFromMetropolis', 'salary', 'jobType_CEO',\n",
       "       'jobType_CFO', 'jobType_CTO', 'jobType_JANITOR', 'jobType_JUNIOR',\n",
       "       'jobType_MANAGER', 'jobType_SENIOR', 'jobType_VICE_PRESIDENT',\n",
       "       'degree_BACHELORS', 'degree_DOCTORAL', 'degree_HIGH_SCHOOL',\n",
       "       'degree_MASTERS', 'degree_NONE', 'major_BIOLOGY', 'major_BUSINESS',\n",
       "       'major_CHEMISTRY', 'major_COMPSCI', 'major_ENGINEERING',\n",
       "       'major_LITERATURE', 'major_MATH', 'major_NONE', 'major_PHYSICS',\n",
       "       'industry_AUTO', 'industry_EDUCATION', 'industry_FINANCE',\n",
       "       'industry_HEALTH', 'industry_OIL', 'industry_SERVICE', 'industry_WEB'],\n",
       "      dtype='object')"
      ]
     },
     "execution_count": 15,
     "metadata": {},
     "output_type": "execute_result"
    }
   ],
   "source": [
    "new_train_df.columns"
   ]
  },
  {
   "cell_type": "code",
   "execution_count": 12,
   "metadata": {},
   "outputs": [
    {
     "name": "stdout",
     "output_type": "stream",
     "text": [
      "New Train DF shape - (1000000, 32)\n"
     ]
    }
   ],
   "source": [
    "print(\"New Train DF shape - {}\".format(new_train_df.shape))"
   ]
  },
  {
   "cell_type": "code",
   "execution_count": 13,
   "metadata": {},
   "outputs": [],
   "source": [
    "features = new_train_df.drop(columns=['salary'], axis=1)\n",
    "target = new_train_df['salary']"
   ]
  },
  {
   "cell_type": "code",
   "execution_count": 14,
   "metadata": {},
   "outputs": [
    {
     "name": "stderr",
     "output_type": "stream",
     "text": [
      "/Users/anuragsharma/.virtualenvs/data-science/lib/python3.6/site-packages/lightgbm/__init__.py:46: UserWarning: Starting from version 2.2.1, the library file in distribution wheels for macOS is built by the Apple Clang (Xcode_8.3.3) compiler.\n",
      "This means that in case of installing LightGBM from PyPI via the ``pip install lightgbm`` command, you don't need to install the gcc compiler anymore.\n",
      "Instead of that, you need to install the OpenMP library, which is required for running LightGBM on the system with the Apple Clang compiler.\n",
      "You can install the OpenMP library by the following command: ``brew install libomp``.\n",
      "  \"You can install the OpenMP library by the following command: ``brew install libomp``.\", UserWarning)\n"
     ]
    }
   ],
   "source": [
    "from sklearn.linear_model import ElasticNet, Lasso, BayesianRidge, LassoLarsIC\n",
    "from sklearn.ensemble import RandomForestRegressor, GradientBoostingRegressor\n",
    "from sklearn.kernel_ridge import KernelRidge\n",
    "from sklearn.model_selection import train_test_split, KFold, cross_val_score\n",
    "from sklearn.metrics import mean_squared_error\n",
    "import xgboost as xgb\n",
    "import lightgbm as lgb"
   ]
  },
  {
   "cell_type": "code",
   "execution_count": 15,
   "metadata": {},
   "outputs": [],
   "source": [
    "X_train, X_test, y_train, y_test = train_test_split(features, target, test_size=0.10, random_state=42)"
   ]
  },
  {
   "cell_type": "code",
   "execution_count": 16,
   "metadata": {},
   "outputs": [
    {
     "name": "stdout",
     "output_type": "stream",
     "text": [
      "X_train shape - (900000, 31)\n",
      "X_test shape - (100000, 31)\n",
      "y_train shape - (900000,)\n",
      "y_test shape - (100000,)\n"
     ]
    }
   ],
   "source": [
    "print(\"X_train shape - {}\".format(X_train.shape))\n",
    "print(\"X_test shape - {}\".format(X_test.shape))\n",
    "print(\"y_train shape - {}\".format(y_train.shape))\n",
    "print(\"y_test shape - {}\".format(y_test.shape))"
   ]
  },
  {
   "cell_type": "code",
   "execution_count": 17,
   "metadata": {},
   "outputs": [],
   "source": [
    "# Validation Function\n",
    "n_folds = 5\n",
    "\n",
    "def rmsle_cv(model):\n",
    "    kf = KFold(n_folds, shuffle=True, random_state=42).get_n_splits(X_train)\n",
    "    rmse= np.sqrt(-cross_val_score(model, X_train, y_train, scoring=\"neg_mean_squared_error\", cv = kf))\n",
    "    return(rmse)"
   ]
  },
  {
   "cell_type": "code",
   "execution_count": 33,
   "metadata": {},
   "outputs": [],
   "source": [
    "lasso = Lasso(alpha =0.05, random_state=42)\n",
    "ENet = ElasticNet(alpha=0.05, l1_ratio=.9, random_state=42)\n",
    "GBoost = GradientBoostingRegressor(n_estimators=100, learning_rate=0.05,\n",
    "                                   max_depth=4, max_features='sqrt',\n",
    "                                   min_samples_leaf=15, min_samples_split=10, \n",
    "                                   loss='huber', random_state =5)\n",
    "\n",
    "model_xgb = xgb.XGBRegressor(colsample_bytree=0.4603, gamma=0.0468, \n",
    "                             learning_rate=0.05, max_depth=30, \n",
    "                             min_child_weight=1.7817, n_estimators=100,\n",
    "                             reg_alpha=0.4640, reg_lambda=0.8571,\n",
    "                             subsample=0.5213, silent=1,\n",
    "                             random_state =7, nthread = -1)\n",
    "\n",
    "model_lgb = lgb.LGBMRegressor(objective='regression',max_leaves=5,\n",
    "                              learning_rate=0.05, n_estimators=100,\n",
    "                              max_bin = 55, bagging_fraction = 0.8,\n",
    "                              bagging_freq = 5, feature_fraction = 0.2319,\n",
    "                              feature_fraction_seed=9, bagging_seed=9,\n",
    "                              min_data_in_leaf =6, min_sum_hessian_in_leaf = 11)"
   ]
  },
  {
   "cell_type": "code",
   "execution_count": 34,
   "metadata": {},
   "outputs": [
    {
     "name": "stdout",
     "output_type": "stream",
     "text": [
      "\n",
      "Lasso score: 19.6238 (0.0190)\n",
      "\n",
      "\n",
      "ElasticNet Score: 19.6627 (0.0184)\n",
      "\n",
      "\n",
      "Gradient Boosting score: 20.9803 (0.0303)\n",
      "\n"
     ]
    },
    {
     "name": "stderr",
     "output_type": "stream",
     "text": [
      "/Users/anuragsharma/.virtualenvs/data-science/lib/python3.6/site-packages/xgboost/core.py:587: FutureWarning: Series.base is deprecated and will be removed in a future version\n",
      "  if getattr(data, 'base', None) is not None and \\\n",
      "/Users/anuragsharma/.virtualenvs/data-science/lib/python3.6/site-packages/xgboost/core.py:587: FutureWarning: Series.base is deprecated and will be removed in a future version\n",
      "  if getattr(data, 'base', None) is not None and \\\n",
      "/Users/anuragsharma/.virtualenvs/data-science/lib/python3.6/site-packages/xgboost/core.py:587: FutureWarning: Series.base is deprecated and will be removed in a future version\n",
      "  if getattr(data, 'base', None) is not None and \\\n",
      "/Users/anuragsharma/.virtualenvs/data-science/lib/python3.6/site-packages/xgboost/core.py:587: FutureWarning: Series.base is deprecated and will be removed in a future version\n",
      "  if getattr(data, 'base', None) is not None and \\\n",
      "/Users/anuragsharma/.virtualenvs/data-science/lib/python3.6/site-packages/xgboost/core.py:587: FutureWarning: Series.base is deprecated and will be removed in a future version\n",
      "  if getattr(data, 'base', None) is not None and \\\n"
     ]
    },
    {
     "name": "stdout",
     "output_type": "stream",
     "text": [
      "\n",
      "XGBRegressor score: 19.2661 (0.0181)\n",
      "\n",
      "\n",
      "LGBRegressor score: 21.0170 (0.0190)\n",
      "\n"
     ]
    }
   ],
   "source": [
    "score = rmsle_cv(lasso)\n",
    "print(\"\\nLasso score: {:.4f} ({:.4f})\\n\".format(score.mean(), score.std()))\n",
    "\n",
    "score = rmsle_cv(ENet)\n",
    "print(\"\\nElasticNet Score: {:.4f} ({:.4f})\\n\".format(score.mean(), score.std()))\n",
    "\n",
    "# score = rmsle_cv(KRR)\n",
    "# print(\"\\nKernelRidge score: {:.4f} ({:.4f})\\n\".format(score.mean(), score.std()))\n",
    "\n",
    "score = rmsle_cv(GBoost)\n",
    "print(\"\\nGradient Boosting score: {:.4f} ({:.4f})\\n\".format(score.mean(), score.std()))\n",
    "\n",
    "score = rmsle_cv(model_xgb)\n",
    "print(\"\\nXGBRegressor score: {:.4f} ({:.4f})\\n\".format(score.mean(), score.std()))\n",
    "\n",
    "score = rmsle_cv(model_lgb)\n",
    "print(\"\\nLGBRegressor score: {:.4f} ({:.4f})\\n\".format(score.mean(), score.std()))"
   ]
  },
  {
   "cell_type": "code",
   "execution_count": 35,
   "metadata": {},
   "outputs": [
    {
     "name": "stderr",
     "output_type": "stream",
     "text": [
      "/Users/anuragsharma/.virtualenvs/data-science/lib/python3.6/site-packages/xgboost/core.py:587: FutureWarning: Series.base is deprecated and will be removed in a future version\n",
      "  if getattr(data, 'base', None) is not None and \\\n"
     ]
    },
    {
     "data": {
      "text/plain": [
       "LGBMRegressor(bagging_fraction=0.8, bagging_freq=5, bagging_seed=9,\n",
       "       boosting_type='gbdt', class_weight=None, colsample_bytree=1.0,\n",
       "       feature_fraction=0.2319, feature_fraction_seed=9,\n",
       "       importance_type='split', learning_rate=0.05, max_bin=55,\n",
       "       max_depth=-1, max_leaves=5, min_child_samples=20,\n",
       "       min_child_weight=0.001, min_data_in_leaf=6, min_split_gain=0.0,\n",
       "       min_sum_hessian_in_leaf=11, n_estimators=100, n_jobs=-1,\n",
       "       num_leaves=31, objective='regression', random_state=None,\n",
       "       reg_alpha=0.0, reg_lambda=0.0, silent=True, subsample=1.0,\n",
       "       subsample_for_bin=200000, subsample_freq=0)"
      ]
     },
     "execution_count": 35,
     "metadata": {},
     "output_type": "execute_result"
    }
   ],
   "source": [
    "lasso.fit(X_train, y_train)\n",
    "ENet.fit(X_train, y_train)\n",
    "GBoost.fit(X_train, y_train)\n",
    "model_xgb.fit(X_train, y_train)\n",
    "model_lgb.fit(X_train, y_train)"
   ]
  },
  {
   "cell_type": "code",
   "execution_count": 36,
   "metadata": {},
   "outputs": [],
   "source": [
    "lasso_predictions = lasso.predict(X_test)\n",
    "enet_predictions = ENet.predict(X_test)\n",
    "gboost_predictions = GBoost.predict(X_test)\n",
    "xgb_predictions = model_xgb.predict(X_test)\n",
    "lgb_predictions = model_lgb.predict(X_test)"
   ]
  },
  {
   "cell_type": "code",
   "execution_count": 45,
   "metadata": {},
   "outputs": [],
   "source": [
    "from sklearn.metrics import mean_squared_error"
   ]
  },
  {
   "cell_type": "code",
   "execution_count": 37,
   "metadata": {},
   "outputs": [],
   "source": [
    "lasso_error = mean_squared_error(lasso_predictions, y_test)\n",
    "enet_error = mean_squared_error(enet_predictions, y_test)\n",
    "gboost_error = mean_squared_error(gboost_predictions, y_test)\n",
    "xgb_error = mean_squared_error(xgb_predictions, y_test)\n",
    "lgb_error = mean_squared_error(lgb_predictions, y_test)"
   ]
  },
  {
   "cell_type": "code",
   "execution_count": 38,
   "metadata": {},
   "outputs": [
    {
     "name": "stdout",
     "output_type": "stream",
     "text": [
      "385.2797227283152 386.71557741420935 441.8814916798484 373.1575219854742 442.5103608477636\n"
     ]
    }
   ],
   "source": [
    "print(lasso_error, enet_error, gboost_error, xgb_error, lgb_error)"
   ]
  },
  {
   "cell_type": "code",
   "execution_count": 39,
   "metadata": {},
   "outputs": [
    {
     "data": {
      "text/plain": [
       "array([136.66148 ,  68.999176, 178.79301 , ..., 138.63487 , 135.12395 ,\n",
       "       152.56015 ], dtype=float32)"
      ]
     },
     "execution_count": 39,
     "metadata": {},
     "output_type": "execute_result"
    }
   ],
   "source": [
    "xgb_predictions"
   ]
  },
  {
   "cell_type": "code",
   "execution_count": 40,
   "metadata": {},
   "outputs": [],
   "source": [
    "predict_df = pd.DataFrame({'Actual':y_test, 'Lasso':lasso_predictions,\n",
    "                          'ENet': enet_predictions, 'GBoost': gboost_predictions,\n",
    "                          'XGB': xgb_predictions, 'LGB': lgb_predictions})"
   ]
  },
  {
   "cell_type": "code",
   "execution_count": 41,
   "metadata": {},
   "outputs": [
    {
     "data": {
      "text/html": [
       "<div>\n",
       "<style scoped>\n",
       "    .dataframe tbody tr th:only-of-type {\n",
       "        vertical-align: middle;\n",
       "    }\n",
       "\n",
       "    .dataframe tbody tr th {\n",
       "        vertical-align: top;\n",
       "    }\n",
       "\n",
       "    .dataframe thead th {\n",
       "        text-align: right;\n",
       "    }\n",
       "</style>\n",
       "<table border=\"1\" class=\"dataframe\">\n",
       "  <thead>\n",
       "    <tr style=\"text-align: right;\">\n",
       "      <th></th>\n",
       "      <th>Actual</th>\n",
       "      <th>Lasso</th>\n",
       "      <th>ENet</th>\n",
       "      <th>GBoost</th>\n",
       "      <th>XGB</th>\n",
       "      <th>LGB</th>\n",
       "    </tr>\n",
       "  </thead>\n",
       "  <tbody>\n",
       "    <tr>\n",
       "      <th>987231</th>\n",
       "      <td>174</td>\n",
       "      <td>141.682970</td>\n",
       "      <td>140.748416</td>\n",
       "      <td>134.786000</td>\n",
       "      <td>136.661484</td>\n",
       "      <td>129.978189</td>\n",
       "    </tr>\n",
       "    <tr>\n",
       "      <th>79954</th>\n",
       "      <td>58</td>\n",
       "      <td>73.077078</td>\n",
       "      <td>74.379829</td>\n",
       "      <td>74.113982</td>\n",
       "      <td>68.999176</td>\n",
       "      <td>80.486107</td>\n",
       "    </tr>\n",
       "    <tr>\n",
       "      <th>567130</th>\n",
       "      <td>168</td>\n",
       "      <td>175.745661</td>\n",
       "      <td>174.503719</td>\n",
       "      <td>160.912900</td>\n",
       "      <td>178.793015</td>\n",
       "      <td>157.700311</td>\n",
       "    </tr>\n",
       "    <tr>\n",
       "      <th>500891</th>\n",
       "      <td>85</td>\n",
       "      <td>109.544415</td>\n",
       "      <td>108.304408</td>\n",
       "      <td>111.963215</td>\n",
       "      <td>112.832932</td>\n",
       "      <td>107.959005</td>\n",
       "    </tr>\n",
       "    <tr>\n",
       "      <th>55399</th>\n",
       "      <td>145</td>\n",
       "      <td>128.754032</td>\n",
       "      <td>129.480911</td>\n",
       "      <td>122.023701</td>\n",
       "      <td>121.059616</td>\n",
       "      <td>127.294810</td>\n",
       "    </tr>\n",
       "    <tr>\n",
       "      <th>135049</th>\n",
       "      <td>135</td>\n",
       "      <td>125.701754</td>\n",
       "      <td>125.255013</td>\n",
       "      <td>125.473135</td>\n",
       "      <td>120.756256</td>\n",
       "      <td>123.504195</td>\n",
       "    </tr>\n",
       "    <tr>\n",
       "      <th>733378</th>\n",
       "      <td>153</td>\n",
       "      <td>122.441849</td>\n",
       "      <td>122.016373</td>\n",
       "      <td>113.520273</td>\n",
       "      <td>122.206566</td>\n",
       "      <td>121.790815</td>\n",
       "    </tr>\n",
       "    <tr>\n",
       "      <th>732057</th>\n",
       "      <td>82</td>\n",
       "      <td>78.175701</td>\n",
       "      <td>77.631058</td>\n",
       "      <td>90.008789</td>\n",
       "      <td>85.423843</td>\n",
       "      <td>85.865831</td>\n",
       "    </tr>\n",
       "    <tr>\n",
       "      <th>51333</th>\n",
       "      <td>120</td>\n",
       "      <td>120.644199</td>\n",
       "      <td>119.883042</td>\n",
       "      <td>117.676378</td>\n",
       "      <td>117.303413</td>\n",
       "      <td>118.423115</td>\n",
       "    </tr>\n",
       "    <tr>\n",
       "      <th>731479</th>\n",
       "      <td>147</td>\n",
       "      <td>133.479516</td>\n",
       "      <td>132.508230</td>\n",
       "      <td>129.829635</td>\n",
       "      <td>134.882187</td>\n",
       "      <td>127.648965</td>\n",
       "    </tr>\n",
       "  </tbody>\n",
       "</table>\n",
       "</div>"
      ],
      "text/plain": [
       "        Actual       Lasso        ENet      GBoost         XGB         LGB\n",
       "987231     174  141.682970  140.748416  134.786000  136.661484  129.978189\n",
       "79954       58   73.077078   74.379829   74.113982   68.999176   80.486107\n",
       "567130     168  175.745661  174.503719  160.912900  178.793015  157.700311\n",
       "500891      85  109.544415  108.304408  111.963215  112.832932  107.959005\n",
       "55399      145  128.754032  129.480911  122.023701  121.059616  127.294810\n",
       "135049     135  125.701754  125.255013  125.473135  120.756256  123.504195\n",
       "733378     153  122.441849  122.016373  113.520273  122.206566  121.790815\n",
       "732057      82   78.175701   77.631058   90.008789   85.423843   85.865831\n",
       "51333      120  120.644199  119.883042  117.676378  117.303413  118.423115\n",
       "731479     147  133.479516  132.508230  129.829635  134.882187  127.648965"
      ]
     },
     "execution_count": 41,
     "metadata": {},
     "output_type": "execute_result"
    }
   ],
   "source": [
    "predict_df.head(n=10)"
   ]
  },
  {
   "cell_type": "code",
   "execution_count": 10,
   "metadata": {},
   "outputs": [],
   "source": [
    "from sklearn.linear_model import LinearRegression\n",
    "from sklearn.ensemble import RandomForestRegressor"
   ]
  },
  {
   "cell_type": "code",
   "execution_count": 30,
   "metadata": {},
   "outputs": [
    {
     "name": "stdout",
     "output_type": "stream",
     "text": [
      "\n",
      "LinearRidge score: 19.6081 (0.0192)\n",
      "\n",
      "384.68222799354555\n"
     ]
    }
   ],
   "source": [
    "LRR = LinearRegression(normalize=True)\n",
    "LRR.fit(X_train, y_train)\n",
    "lrr_predictions = LRR.predict(X_test)\n",
    "\n",
    "score = rmsle_cv(LRR)\n",
    "print(\"\\nLinearRidge score: {:.4f} ({:.4f})\\n\".format(score.mean(), score.std()))\n",
    "\n",
    "print(mean_squared_error(lrr_predictions, y_test))"
   ]
  },
  {
   "cell_type": "code",
   "execution_count": 31,
   "metadata": {},
   "outputs": [
    {
     "name": "stdout",
     "output_type": "stream",
     "text": [
      "\n",
      "LinearRidge score: 20.9858 (0.0282)\n",
      "\n",
      "441.6513390339128\n"
     ]
    }
   ],
   "source": [
    "RFR = RandomForestRegressor(max_depth=30, random_state=42, n_estimators=100)\n",
    "RFR.fit(X_train, y_train)\n",
    "rfr_predictions = RFR.predict(X_test)\n",
    "\n",
    "score = rmsle_cv(RFR)\n",
    "print(\"\\nLinearRidge score: {:.4f} ({:.4f})\\n\".format(score.mean(), score.std()))\n",
    "\n",
    "print(mean_squared_error(rfr_predictions, y_test))"
   ]
  },
  {
   "cell_type": "code",
   "execution_count": 32,
   "metadata": {},
   "outputs": [
    {
     "name": "stdout",
     "output_type": "stream",
     "text": [
      "\n",
      "LinearRidge score: 21.8524 (0.0287)\n",
      "\n",
      "469.9391776\n"
     ]
    }
   ],
   "source": [
    "from sklearn.neighbors import KNeighborsRegressor\n",
    "knn = KNeighborsRegressor(n_neighbors=5)\n",
    "knn.fit(X_train, y_train)\n",
    "\n",
    "knn_predictions = knn.predict(X_test)\n",
    "\n",
    "score = rmsle_cv(knn)\n",
    "print(\"\\nLinearRidge score: {:.4f} ({:.4f})\\n\".format(score.mean(), score.std()))\n",
    "\n",
    "print(mean_squared_error(knn_predictions, y_test))"
   ]
  },
  {
   "cell_type": "code",
   "execution_count": null,
   "metadata": {},
   "outputs": [],
   "source": []
  }
 ],
 "metadata": {
  "kernelspec": {
   "display_name": "Python 3",
   "language": "python",
   "name": "python3"
  },
  "language_info": {
   "codemirror_mode": {
    "name": "ipython",
    "version": 3
   },
   "file_extension": ".py",
   "mimetype": "text/x-python",
   "name": "python",
   "nbconvert_exporter": "python",
   "pygments_lexer": "ipython3",
   "version": "3.6.8"
  }
 },
 "nbformat": 4,
 "nbformat_minor": 2
}
